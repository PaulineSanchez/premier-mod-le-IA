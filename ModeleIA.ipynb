{
 "cells": [
  {
   "cell_type": "code",
   "execution_count": 2,
   "metadata": {},
   "outputs": [],
   "source": [
    "import pandas as pd\n",
    "import numpy as np\n",
    "%matplotlib inline\n",
    "import matplotlib.pyplot as plt\n",
    "import scipy as sp\n",
    "import seaborn as sns\n",
    "from sklearn.metrics import mean_squared_error, mean_absolute_error"
   ]
  },
  {
   "cell_type": "code",
   "execution_count": 2,
   "metadata": {},
   "outputs": [],
   "source": [
    "# Récupération des données\n",
    "reg=pd.read_csv(\"reg_simple.csv\")\n",
    "position=pd.read_csv(\"Position_Salaries.csv\")\n",
    "boston=pd.read_csv(\"boston_house_prices.csv\")\n",
    "qualite=pd.read_csv(\"reg_simple.csv\")"
   ]
  },
  {
   "cell_type": "markdown",
   "metadata": {},
   "source": [
    "# Ouverture des données"
   ]
  },
  {
   "cell_type": "code",
   "execution_count": 3,
   "metadata": {},
   "outputs": [
    {
     "data": {
      "text/html": [
       "<div>\n",
       "<style scoped>\n",
       "    .dataframe tbody tr th:only-of-type {\n",
       "        vertical-align: middle;\n",
       "    }\n",
       "\n",
       "    .dataframe tbody tr th {\n",
       "        vertical-align: top;\n",
       "    }\n",
       "\n",
       "    .dataframe thead th {\n",
       "        text-align: right;\n",
       "    }\n",
       "</style>\n",
       "<table border=\"1\" class=\"dataframe\">\n",
       "  <thead>\n",
       "    <tr style=\"text-align: right;\">\n",
       "      <th></th>\n",
       "      <th>heure_rev</th>\n",
       "      <th>note</th>\n",
       "    </tr>\n",
       "  </thead>\n",
       "  <tbody>\n",
       "    <tr>\n",
       "      <th>0</th>\n",
       "      <td>2</td>\n",
       "      <td>10</td>\n",
       "    </tr>\n",
       "    <tr>\n",
       "      <th>1</th>\n",
       "      <td>3</td>\n",
       "      <td>12</td>\n",
       "    </tr>\n",
       "    <tr>\n",
       "      <th>2</th>\n",
       "      <td>4</td>\n",
       "      <td>20</td>\n",
       "    </tr>\n",
       "    <tr>\n",
       "      <th>3</th>\n",
       "      <td>5</td>\n",
       "      <td>22</td>\n",
       "    </tr>\n",
       "    <tr>\n",
       "      <th>4</th>\n",
       "      <td>6</td>\n",
       "      <td>21</td>\n",
       "    </tr>\n",
       "    <tr>\n",
       "      <th>5</th>\n",
       "      <td>7</td>\n",
       "      <td>25</td>\n",
       "    </tr>\n",
       "    <tr>\n",
       "      <th>6</th>\n",
       "      <td>8</td>\n",
       "      <td>30</td>\n",
       "    </tr>\n",
       "  </tbody>\n",
       "</table>\n",
       "</div>"
      ],
      "text/plain": [
       "   heure_rev  note\n",
       "0          2    10\n",
       "1          3    12\n",
       "2          4    20\n",
       "3          5    22\n",
       "4          6    21\n",
       "5          7    25\n",
       "6          8    30"
      ]
     },
     "execution_count": 3,
     "metadata": {},
     "output_type": "execute_result"
    }
   ],
   "source": [
    "reg.head(7)"
   ]
  },
  {
   "cell_type": "code",
   "execution_count": 4,
   "metadata": {},
   "outputs": [
    {
     "data": {
      "text/html": [
       "<div>\n",
       "<style scoped>\n",
       "    .dataframe tbody tr th:only-of-type {\n",
       "        vertical-align: middle;\n",
       "    }\n",
       "\n",
       "    .dataframe tbody tr th {\n",
       "        vertical-align: top;\n",
       "    }\n",
       "\n",
       "    .dataframe thead th {\n",
       "        text-align: right;\n",
       "    }\n",
       "</style>\n",
       "<table border=\"1\" class=\"dataframe\">\n",
       "  <thead>\n",
       "    <tr style=\"text-align: right;\">\n",
       "      <th></th>\n",
       "      <th>Position</th>\n",
       "      <th>Level</th>\n",
       "      <th>Salary</th>\n",
       "    </tr>\n",
       "  </thead>\n",
       "  <tbody>\n",
       "    <tr>\n",
       "      <th>0</th>\n",
       "      <td>Project Analyste</td>\n",
       "      <td>1</td>\n",
       "      <td>45000</td>\n",
       "    </tr>\n",
       "    <tr>\n",
       "      <th>1</th>\n",
       "      <td>Ingenieur</td>\n",
       "      <td>2</td>\n",
       "      <td>50000</td>\n",
       "    </tr>\n",
       "    <tr>\n",
       "      <th>2</th>\n",
       "      <td>Senior Consultant</td>\n",
       "      <td>3</td>\n",
       "      <td>60000</td>\n",
       "    </tr>\n",
       "    <tr>\n",
       "      <th>3</th>\n",
       "      <td>Manager</td>\n",
       "      <td>4</td>\n",
       "      <td>80000</td>\n",
       "    </tr>\n",
       "    <tr>\n",
       "      <th>4</th>\n",
       "      <td>Country Manager</td>\n",
       "      <td>5</td>\n",
       "      <td>110000</td>\n",
       "    </tr>\n",
       "    <tr>\n",
       "      <th>5</th>\n",
       "      <td>Gouverneur</td>\n",
       "      <td>6</td>\n",
       "      <td>150000</td>\n",
       "    </tr>\n",
       "    <tr>\n",
       "      <th>6</th>\n",
       "      <td>Associate</td>\n",
       "      <td>7</td>\n",
       "      <td>200000</td>\n",
       "    </tr>\n",
       "    <tr>\n",
       "      <th>7</th>\n",
       "      <td>Commercial</td>\n",
       "      <td>8</td>\n",
       "      <td>300000</td>\n",
       "    </tr>\n",
       "    <tr>\n",
       "      <th>8</th>\n",
       "      <td>C-level</td>\n",
       "      <td>9</td>\n",
       "      <td>500000</td>\n",
       "    </tr>\n",
       "    <tr>\n",
       "      <th>9</th>\n",
       "      <td>PDG</td>\n",
       "      <td>10</td>\n",
       "      <td>1000000</td>\n",
       "    </tr>\n",
       "  </tbody>\n",
       "</table>\n",
       "</div>"
      ],
      "text/plain": [
       "            Position  Level   Salary\n",
       "0   Project Analyste      1    45000\n",
       "1          Ingenieur      2    50000\n",
       "2  Senior Consultant      3    60000\n",
       "3            Manager      4    80000\n",
       "4    Country Manager      5   110000\n",
       "5         Gouverneur      6   150000\n",
       "6          Associate      7   200000\n",
       "7         Commercial      8   300000\n",
       "8            C-level      9   500000\n",
       "9                PDG     10  1000000"
      ]
     },
     "execution_count": 4,
     "metadata": {},
     "output_type": "execute_result"
    }
   ],
   "source": [
    "position"
   ]
  },
  {
   "cell_type": "code",
   "execution_count": 5,
   "metadata": {},
   "outputs": [
    {
     "data": {
      "text/html": [
       "<div>\n",
       "<style scoped>\n",
       "    .dataframe tbody tr th:only-of-type {\n",
       "        vertical-align: middle;\n",
       "    }\n",
       "\n",
       "    .dataframe tbody tr th {\n",
       "        vertical-align: top;\n",
       "    }\n",
       "\n",
       "    .dataframe thead th {\n",
       "        text-align: right;\n",
       "    }\n",
       "</style>\n",
       "<table border=\"1\" class=\"dataframe\">\n",
       "  <thead>\n",
       "    <tr style=\"text-align: right;\">\n",
       "      <th></th>\n",
       "      <th>CRIM</th>\n",
       "      <th>ZN</th>\n",
       "      <th>INDUS</th>\n",
       "      <th>CHAS</th>\n",
       "      <th>NOX</th>\n",
       "      <th>RM</th>\n",
       "      <th>AGE</th>\n",
       "      <th>DIS</th>\n",
       "      <th>RAD</th>\n",
       "      <th>TAX</th>\n",
       "      <th>PTRATIO</th>\n",
       "      <th>B</th>\n",
       "      <th>LSTAT</th>\n",
       "      <th>MEDV</th>\n",
       "    </tr>\n",
       "  </thead>\n",
       "  <tbody>\n",
       "    <tr>\n",
       "      <th>0</th>\n",
       "      <td>0.00632</td>\n",
       "      <td>18.0</td>\n",
       "      <td>2.31</td>\n",
       "      <td>0</td>\n",
       "      <td>0.538</td>\n",
       "      <td>6.575</td>\n",
       "      <td>65.2</td>\n",
       "      <td>4.0900</td>\n",
       "      <td>1</td>\n",
       "      <td>296</td>\n",
       "      <td>15.3</td>\n",
       "      <td>396.90</td>\n",
       "      <td>4.98</td>\n",
       "      <td>24.0</td>\n",
       "    </tr>\n",
       "    <tr>\n",
       "      <th>1</th>\n",
       "      <td>0.02731</td>\n",
       "      <td>0.0</td>\n",
       "      <td>7.07</td>\n",
       "      <td>0</td>\n",
       "      <td>0.469</td>\n",
       "      <td>6.421</td>\n",
       "      <td>78.9</td>\n",
       "      <td>4.9671</td>\n",
       "      <td>2</td>\n",
       "      <td>242</td>\n",
       "      <td>17.8</td>\n",
       "      <td>396.90</td>\n",
       "      <td>9.14</td>\n",
       "      <td>21.6</td>\n",
       "    </tr>\n",
       "    <tr>\n",
       "      <th>2</th>\n",
       "      <td>0.02729</td>\n",
       "      <td>0.0</td>\n",
       "      <td>7.07</td>\n",
       "      <td>0</td>\n",
       "      <td>0.469</td>\n",
       "      <td>7.185</td>\n",
       "      <td>61.1</td>\n",
       "      <td>4.9671</td>\n",
       "      <td>2</td>\n",
       "      <td>242</td>\n",
       "      <td>17.8</td>\n",
       "      <td>392.83</td>\n",
       "      <td>4.03</td>\n",
       "      <td>34.7</td>\n",
       "    </tr>\n",
       "    <tr>\n",
       "      <th>3</th>\n",
       "      <td>0.03237</td>\n",
       "      <td>0.0</td>\n",
       "      <td>2.18</td>\n",
       "      <td>0</td>\n",
       "      <td>0.458</td>\n",
       "      <td>6.998</td>\n",
       "      <td>45.8</td>\n",
       "      <td>6.0622</td>\n",
       "      <td>3</td>\n",
       "      <td>222</td>\n",
       "      <td>18.7</td>\n",
       "      <td>394.63</td>\n",
       "      <td>2.94</td>\n",
       "      <td>33.4</td>\n",
       "    </tr>\n",
       "    <tr>\n",
       "      <th>4</th>\n",
       "      <td>0.06905</td>\n",
       "      <td>0.0</td>\n",
       "      <td>2.18</td>\n",
       "      <td>0</td>\n",
       "      <td>0.458</td>\n",
       "      <td>7.147</td>\n",
       "      <td>54.2</td>\n",
       "      <td>6.0622</td>\n",
       "      <td>3</td>\n",
       "      <td>222</td>\n",
       "      <td>18.7</td>\n",
       "      <td>396.90</td>\n",
       "      <td>5.33</td>\n",
       "      <td>36.2</td>\n",
       "    </tr>\n",
       "    <tr>\n",
       "      <th>5</th>\n",
       "      <td>0.02985</td>\n",
       "      <td>0.0</td>\n",
       "      <td>2.18</td>\n",
       "      <td>0</td>\n",
       "      <td>0.458</td>\n",
       "      <td>6.430</td>\n",
       "      <td>58.7</td>\n",
       "      <td>6.0622</td>\n",
       "      <td>3</td>\n",
       "      <td>222</td>\n",
       "      <td>18.7</td>\n",
       "      <td>394.12</td>\n",
       "      <td>5.21</td>\n",
       "      <td>28.7</td>\n",
       "    </tr>\n",
       "    <tr>\n",
       "      <th>6</th>\n",
       "      <td>0.08829</td>\n",
       "      <td>12.5</td>\n",
       "      <td>7.87</td>\n",
       "      <td>0</td>\n",
       "      <td>0.524</td>\n",
       "      <td>6.012</td>\n",
       "      <td>66.6</td>\n",
       "      <td>5.5605</td>\n",
       "      <td>5</td>\n",
       "      <td>311</td>\n",
       "      <td>15.2</td>\n",
       "      <td>395.60</td>\n",
       "      <td>12.43</td>\n",
       "      <td>22.9</td>\n",
       "    </tr>\n",
       "  </tbody>\n",
       "</table>\n",
       "</div>"
      ],
      "text/plain": [
       "      CRIM    ZN  INDUS  CHAS    NOX     RM   AGE     DIS  RAD  TAX  PTRATIO  \\\n",
       "0  0.00632  18.0   2.31     0  0.538  6.575  65.2  4.0900    1  296     15.3   \n",
       "1  0.02731   0.0   7.07     0  0.469  6.421  78.9  4.9671    2  242     17.8   \n",
       "2  0.02729   0.0   7.07     0  0.469  7.185  61.1  4.9671    2  242     17.8   \n",
       "3  0.03237   0.0   2.18     0  0.458  6.998  45.8  6.0622    3  222     18.7   \n",
       "4  0.06905   0.0   2.18     0  0.458  7.147  54.2  6.0622    3  222     18.7   \n",
       "5  0.02985   0.0   2.18     0  0.458  6.430  58.7  6.0622    3  222     18.7   \n",
       "6  0.08829  12.5   7.87     0  0.524  6.012  66.6  5.5605    5  311     15.2   \n",
       "\n",
       "        B  LSTAT  MEDV  \n",
       "0  396.90   4.98  24.0  \n",
       "1  396.90   9.14  21.6  \n",
       "2  392.83   4.03  34.7  \n",
       "3  394.63   2.94  33.4  \n",
       "4  396.90   5.33  36.2  \n",
       "5  394.12   5.21  28.7  \n",
       "6  395.60  12.43  22.9  "
      ]
     },
     "execution_count": 5,
     "metadata": {},
     "output_type": "execute_result"
    }
   ],
   "source": [
    "boston.head(7)"
   ]
  },
  {
   "cell_type": "code",
   "execution_count": 6,
   "metadata": {},
   "outputs": [
    {
     "data": {
      "text/html": [
       "<div>\n",
       "<style scoped>\n",
       "    .dataframe tbody tr th:only-of-type {\n",
       "        vertical-align: middle;\n",
       "    }\n",
       "\n",
       "    .dataframe tbody tr th {\n",
       "        vertical-align: top;\n",
       "    }\n",
       "\n",
       "    .dataframe thead th {\n",
       "        text-align: right;\n",
       "    }\n",
       "</style>\n",
       "<table border=\"1\" class=\"dataframe\">\n",
       "  <thead>\n",
       "    <tr style=\"text-align: right;\">\n",
       "      <th></th>\n",
       "      <th>heure_rev</th>\n",
       "      <th>note</th>\n",
       "    </tr>\n",
       "  </thead>\n",
       "  <tbody>\n",
       "    <tr>\n",
       "      <th>0</th>\n",
       "      <td>2</td>\n",
       "      <td>10</td>\n",
       "    </tr>\n",
       "    <tr>\n",
       "      <th>1</th>\n",
       "      <td>3</td>\n",
       "      <td>12</td>\n",
       "    </tr>\n",
       "    <tr>\n",
       "      <th>2</th>\n",
       "      <td>4</td>\n",
       "      <td>20</td>\n",
       "    </tr>\n",
       "    <tr>\n",
       "      <th>3</th>\n",
       "      <td>5</td>\n",
       "      <td>22</td>\n",
       "    </tr>\n",
       "    <tr>\n",
       "      <th>4</th>\n",
       "      <td>6</td>\n",
       "      <td>21</td>\n",
       "    </tr>\n",
       "    <tr>\n",
       "      <th>5</th>\n",
       "      <td>7</td>\n",
       "      <td>25</td>\n",
       "    </tr>\n",
       "    <tr>\n",
       "      <th>6</th>\n",
       "      <td>8</td>\n",
       "      <td>30</td>\n",
       "    </tr>\n",
       "  </tbody>\n",
       "</table>\n",
       "</div>"
      ],
      "text/plain": [
       "   heure_rev  note\n",
       "0          2    10\n",
       "1          3    12\n",
       "2          4    20\n",
       "3          5    22\n",
       "4          6    21\n",
       "5          7    25\n",
       "6          8    30"
      ]
     },
     "execution_count": 6,
     "metadata": {},
     "output_type": "execute_result"
    }
   ],
   "source": [
    "qualite.head(7)"
   ]
  },
  {
   "cell_type": "markdown",
   "metadata": {},
   "source": [
    "# Régression linéaire simple"
   ]
  },
  {
   "cell_type": "code",
   "execution_count": 7,
   "metadata": {},
   "outputs": [
    {
     "data": {
      "text/html": [
       "<div>\n",
       "<style scoped>\n",
       "    .dataframe tbody tr th:only-of-type {\n",
       "        vertical-align: middle;\n",
       "    }\n",
       "\n",
       "    .dataframe tbody tr th {\n",
       "        vertical-align: top;\n",
       "    }\n",
       "\n",
       "    .dataframe thead th {\n",
       "        text-align: right;\n",
       "    }\n",
       "</style>\n",
       "<table border=\"1\" class=\"dataframe\">\n",
       "  <thead>\n",
       "    <tr style=\"text-align: right;\">\n",
       "      <th></th>\n",
       "      <th>heure_rev</th>\n",
       "      <th>note</th>\n",
       "    </tr>\n",
       "  </thead>\n",
       "  <tbody>\n",
       "    <tr>\n",
       "      <th>0</th>\n",
       "      <td>2</td>\n",
       "      <td>10</td>\n",
       "    </tr>\n",
       "    <tr>\n",
       "      <th>1</th>\n",
       "      <td>3</td>\n",
       "      <td>12</td>\n",
       "    </tr>\n",
       "    <tr>\n",
       "      <th>2</th>\n",
       "      <td>4</td>\n",
       "      <td>20</td>\n",
       "    </tr>\n",
       "    <tr>\n",
       "      <th>3</th>\n",
       "      <td>5</td>\n",
       "      <td>22</td>\n",
       "    </tr>\n",
       "    <tr>\n",
       "      <th>4</th>\n",
       "      <td>6</td>\n",
       "      <td>21</td>\n",
       "    </tr>\n",
       "  </tbody>\n",
       "</table>\n",
       "</div>"
      ],
      "text/plain": [
       "   heure_rev  note\n",
       "0          2    10\n",
       "1          3    12\n",
       "2          4    20\n",
       "3          5    22\n",
       "4          6    21"
      ]
     },
     "execution_count": 7,
     "metadata": {},
     "output_type": "execute_result"
    }
   ],
   "source": [
    "reg.head()"
   ]
  },
  {
   "cell_type": "code",
   "execution_count": 8,
   "metadata": {},
   "outputs": [
    {
     "data": {
      "text/plain": [
       "Text(0.5, 1.0, 'Régresion linéaire')"
      ]
     },
     "execution_count": 8,
     "metadata": {},
     "output_type": "execute_result"
    },
    {
     "data": {
      "image/png": "[encoded data removed]",
      "text/plain": [
       "<Figure size 432x288 with 1 Axes>"
      ]
     },
     "metadata": {
      "needs_background": "light"
     },
     "output_type": "display_data"
    }
   ],
   "source": [
    "plt.scatter(reg[\"heure_rev\"],reg[\"note\"], color=\"darkred\")\n",
    "plt.xlabel(\"heure_rev\")\n",
    "plt.ylabel(\"note\")\n",
    "plt.title(\"Régresion linéaire\")"
   ]
  },
  {
   "cell_type": "code",
   "execution_count": 9,
   "metadata": {},
   "outputs": [
    {
     "data": {
      "text/plain": [
       "array([[ 2,  1],\n",
       "       [ 3,  1],\n",
       "       [ 4,  1],\n",
       "       [ 5,  1],\n",
       "       [ 6,  1],\n",
       "       [ 7,  1],\n",
       "       [ 8,  1],\n",
       "       [ 9,  1],\n",
       "       [10,  1],\n",
       "       [11,  1],\n",
       "       [12,  1],\n",
       "       [13,  1],\n",
       "       [14,  1],\n",
       "       [15,  1],\n",
       "       [16,  1],\n",
       "       [17,  1],\n",
       "       [18,  1],\n",
       "       [19,  1],\n",
       "       [20,  1],\n",
       "       [21,  1],\n",
       "       [22,  1],\n",
       "       [23,  1],\n",
       "       [24,  1],\n",
       "       [25,  1],\n",
       "       [26,  1],\n",
       "       [29,  1],\n",
       "       [30,  1]], dtype=int64)"
      ]
     },
     "execution_count": 9,
     "metadata": {},
     "output_type": "execute_result"
    }
   ],
   "source": [
    "X=pd.DataFrame({'heure_rev': reg[\"heure_rev\"]})\n",
    "X[\"unitaire\"]=1\n",
    "X=np.array(X)\n",
    "X"
   ]
  },
  {
   "cell_type": "code",
   "execution_count": 10,
   "metadata": {},
   "outputs": [
    {
     "data": {
      "text/plain": [
       "(27, 1)"
      ]
     },
     "execution_count": 10,
     "metadata": {},
     "output_type": "execute_result"
    }
   ],
   "source": [
    "X2=np.array(reg[\"heure_rev\"])\n",
    "X2=X2.reshape(len(X2),1)\n",
    "#X2.shape\n",
    "\n",
    "o=np.ones(X2.shape)\n",
    "o.shape"
   ]
  },
  {
   "cell_type": "code",
   "execution_count": 11,
   "metadata": {},
   "outputs": [
    {
     "data": {
      "text/plain": [
       "array([[ 2.,  1.],\n",
       "       [ 3.,  1.],\n",
       "       [ 4.,  1.],\n",
       "       [ 5.,  1.],\n",
       "       [ 6.,  1.],\n",
       "       [ 7.,  1.],\n",
       "       [ 8.,  1.],\n",
       "       [ 9.,  1.],\n",
       "       [10.,  1.],\n",
       "       [11.,  1.],\n",
       "       [12.,  1.],\n",
       "       [13.,  1.],\n",
       "       [14.,  1.],\n",
       "       [15.,  1.],\n",
       "       [16.,  1.],\n",
       "       [17.,  1.],\n",
       "       [18.,  1.],\n",
       "       [19.,  1.],\n",
       "       [20.,  1.],\n",
       "       [21.,  1.],\n",
       "       [22.,  1.],\n",
       "       [23.,  1.],\n",
       "       [24.,  1.],\n",
       "       [25.,  1.],\n",
       "       [26.,  1.],\n",
       "       [29.,  1.],\n",
       "       [30.,  1.]])"
      ]
     },
     "execution_count": 11,
     "metadata": {},
     "output_type": "execute_result"
    }
   ],
   "source": [
    "X2_new=np.hstack((X2,o))\n",
    "X2_new"
   ]
  },
  {
   "cell_type": "code",
   "execution_count": 12,
   "metadata": {},
   "outputs": [
    {
     "data": {
      "text/plain": [
       "(27, 1)"
      ]
     },
     "execution_count": 12,
     "metadata": {},
     "output_type": "execute_result"
    }
   ],
   "source": [
    "Y2=np.array(reg[\"note\"])\n",
    "Y2=Y2.reshape(len(Y2),1)\n",
    "Y2.shape"
   ]
  },
  {
   "cell_type": "code",
   "execution_count": 13,
   "metadata": {},
   "outputs": [
    {
     "data": {
      "text/plain": [
       "array([[1.52460076],\n",
       "       [0.56682477]])"
      ]
     },
     "execution_count": 13,
     "metadata": {},
     "output_type": "execute_result"
    }
   ],
   "source": [
    "teta=np.random.randn(2,1)\n",
    "teta"
   ]
  },
  {
   "cell_type": "code",
   "execution_count": 14,
   "metadata": {},
   "outputs": [
    {
     "data": {
      "text/plain": [
       "array([[10],\n",
       "       [12],\n",
       "       [20],\n",
       "       [22],\n",
       "       [21],\n",
       "       [25],\n",
       "       [30],\n",
       "       [21],\n",
       "       [32],\n",
       "       [34],\n",
       "       [35],\n",
       "       [30],\n",
       "       [50],\n",
       "       [45],\n",
       "       [55],\n",
       "       [60],\n",
       "       [66],\n",
       "       [64],\n",
       "       [67],\n",
       "       [72],\n",
       "       [74],\n",
       "       [80],\n",
       "       [79],\n",
       "       [84],\n",
       "       [93],\n",
       "       [98],\n",
       "       [99]], dtype=int64)"
      ]
     },
     "execution_count": 14,
     "metadata": {},
     "output_type": "execute_result"
    }
   ],
   "source": [
    "Y=pd.DataFrame({'note': reg[\"note\"]})\n",
    "Y=np.array(Y)\n",
    "Y"
   ]
  },
  {
   "cell_type": "code",
   "execution_count": 15,
   "metadata": {},
   "outputs": [
    {
     "data": {
      "text/plain": [
       "491.196286961397"
      ]
     },
     "execution_count": 15,
     "metadata": {},
     "output_type": "execute_result"
    }
   ],
   "source": [
    "def model(X,teta):\n",
    "    return X.dot(teta)\n",
    "\n",
    "def fonction_count(X,Y,teta):\n",
    "    m=len(Y)\n",
    "    return np.sum((model(X,teta)-Y)**2)/(2*m)\n",
    "\n",
    "fonction_count(X,Y,teta)"
   ]
  },
  {
   "cell_type": "code",
   "execution_count": 16,
   "metadata": {},
   "outputs": [
    {
     "data": {
      "text/plain": [
       "array([[-532.08570588],\n",
       "       [ -27.37533414]])"
      ]
     },
     "execution_count": 16,
     "metadata": {},
     "output_type": "execute_result"
    }
   ],
   "source": [
    "def gradient(X,Y,teta):\n",
    "    m=len(Y)\n",
    "    return X.T.dot(model(X,teta)-Y)/m\n",
    "gradient(X,Y,teta)"
   ]
  },
  {
   "cell_type": "code",
   "execution_count": 17,
   "metadata": {},
   "outputs": [],
   "source": [
    "n_iterations=25\n",
    "alpha=0.001\n",
    "\n",
    "\n",
    "def descente_gradient(X,Y,teta, alpha, n_iterations):\n",
    "    cout = np.zeros(n_iterations)\n",
    "     \n",
    "    for i in range(0, n_iterations):\n",
    "        teta = teta - alpha * gradient(X,Y,teta) # mise a jour du parametre teta (formule du gradient descent)\n",
    "        cout[i] = fonction_count(X,Y,teta) # on enregistre la valeur du Cout au tour i \n",
    "         \n",
    "    return teta, cout\n",
    "\n",
    "t,c=descente_gradient(X,Y,teta, alpha, n_iterations)"
   ]
  },
  {
   "cell_type": "code",
   "execution_count": 18,
   "metadata": {},
   "outputs": [
    {
     "data": {
      "text/plain": [
       "array([[3.3287076],\n",
       "       [0.6585651]])"
      ]
     },
     "execution_count": 18,
     "metadata": {},
     "output_type": "execute_result"
    }
   ],
   "source": [
    "t"
   ]
  },
  {
   "cell_type": "code",
   "execution_count": 19,
   "metadata": {},
   "outputs": [
    {
     "data": {
      "text/plain": [
       "array([249.18636542, 128.86449136,  69.04316901,  39.30135597,\n",
       "        24.51439629,  17.16265231,  13.50752982,  11.69028413,\n",
       "        10.78678931,  10.33759083,  10.11425822,  10.00322103,\n",
       "         9.9480146 ,   9.92056595,   9.90691786,   9.90013108,\n",
       "         9.8967556 ,   9.89507614,   9.8942399 ,   9.89382289,\n",
       "         9.89361432,   9.89350937,   9.89345595,   9.89342815,\n",
       "         9.89341308])"
      ]
     },
     "execution_count": 19,
     "metadata": {},
     "output_type": "execute_result"
    }
   ],
   "source": [
    "c"
   ]
  },
  {
   "cell_type": "code",
   "execution_count": 20,
   "metadata": {},
   "outputs": [
    {
     "data": {
      "text/plain": [
       "array([[  7.3159803 ],\n",
       "       [ 10.6446879 ],\n",
       "       [ 13.9733955 ],\n",
       "       [ 17.3021031 ],\n",
       "       [ 20.6308107 ],\n",
       "       [ 23.9595183 ],\n",
       "       [ 27.2882259 ],\n",
       "       [ 30.6169335 ],\n",
       "       [ 33.9456411 ],\n",
       "       [ 37.2743487 ],\n",
       "       [ 40.60305631],\n",
       "       [ 43.93176391],\n",
       "       [ 47.26047151],\n",
       "       [ 50.58917911],\n",
       "       [ 53.91788671],\n",
       "       [ 57.24659431],\n",
       "       [ 60.57530191],\n",
       "       [ 63.90400951],\n",
       "       [ 67.23271711],\n",
       "       [ 70.56142471],\n",
       "       [ 73.89013231],\n",
       "       [ 77.21883991],\n",
       "       [ 80.54754751],\n",
       "       [ 83.87625511],\n",
       "       [ 87.20496271],\n",
       "       [ 97.19108552],\n",
       "       [100.51979312]])"
      ]
     },
     "execution_count": 20,
     "metadata": {},
     "output_type": "execute_result"
    }
   ],
   "source": [
    "Y_pred=model(X,t)\n",
    "Y_pred"
   ]
  },
  {
   "cell_type": "code",
   "execution_count": 21,
   "metadata": {},
   "outputs": [
    {
     "data": {
      "text/plain": [
       "51.08232097425607"
      ]
     },
     "execution_count": 21,
     "metadata": {},
     "output_type": "execute_result"
    }
   ],
   "source": [
    "Y_pred.mean()"
   ]
  },
  {
   "cell_type": "code",
   "execution_count": 22,
   "metadata": {},
   "outputs": [
    {
     "data": {
      "text/plain": [
       "array([[23.6617029],\n",
       "       [23.6617029],\n",
       "       [23.6617029],\n",
       "       [23.6617029],\n",
       "       [23.6617029],\n",
       "       [23.6617029],\n",
       "       [23.6617029],\n",
       "       [23.6617029],\n",
       "       [23.6617029],\n",
       "       [23.6617029],\n",
       "       [23.6617029],\n",
       "       [23.6617029],\n",
       "       [23.6617029],\n",
       "       [23.6617029],\n",
       "       [23.6617029],\n",
       "       [23.6617029],\n",
       "       [23.6617029],\n",
       "       [23.6617029],\n",
       "       [23.6617029],\n",
       "       [23.6617029],\n",
       "       [23.6617029],\n",
       "       [23.6617029],\n",
       "       [23.6617029],\n",
       "       [23.6617029],\n",
       "       [23.6617029],\n",
       "       [23.6617029],\n",
       "       [23.6617029]])"
      ]
     },
     "execution_count": 22,
     "metadata": {},
     "output_type": "execute_result"
    }
   ],
   "source": [
    "U=np.ones(Y_pred.shape)\n",
    "Y_moy=U*model(X,teta).mean()\n",
    "Y_moy"
   ]
  },
  {
   "cell_type": "code",
   "execution_count": 23,
   "metadata": {},
   "outputs": [
    {
     "data": {
      "text/plain": [
       "0.9867258614047192"
      ]
     },
     "execution_count": 23,
     "metadata": {},
     "output_type": "execute_result"
    }
   ],
   "source": [
    "def R2(Y, Y_pred, Y_moy):\n",
    "    u=np.sum((Y-Y_pred)**2)\n",
    "    v=np.sum((Y-Y_moy)**2)\n",
    "    return 1-(u/v)\n",
    "\n",
    "R2(Y,Y_pred,Y_moy)"
   ]
  },
  {
   "cell_type": "code",
   "execution_count": 24,
   "metadata": {},
   "outputs": [
    {
     "data": {
      "text/plain": [
       "<matplotlib.legend.Legend at 0x1dae9dcc9a0>"
      ]
     },
     "execution_count": 24,
     "metadata": {},
     "output_type": "execute_result"
    },
    {
     "data": {
      "image/png": "[encoded data removed]",
      "text/plain": [
       "<Figure size 432x288 with 1 Axes>"
      ]
     },
     "metadata": {
      "needs_background": "light"
     },
     "output_type": "display_data"
    }
   ],
   "source": [
    "plt.plot(reg[\"heure_rev\"],reg[\"note\"],\".\", color=\"darkred\", label=\"valeur de base\")\n",
    "plt.plot(reg[\"heure_rev\"],Y_pred, label=\"valeur predite\")\n",
    "plt.xlabel(\"heure_rev\")\n",
    "plt.ylabel(\"note\")\n",
    "plt.title(r\"$Régresion\\ linéaire\\ simple\\ avec\\ {R^2}=$\"+ str(R2(Y,Y_pred,Y_moy)))\n",
    "plt.legend()"
   ]
  },
  {
   "cell_type": "code",
   "execution_count": 25,
   "metadata": {},
   "outputs": [
    {
     "data": {
      "text/plain": [
       "Text(0.5, 1.0, 'fonction du coût selon les itérations')"
      ]
     },
     "execution_count": 25,
     "metadata": {},
     "output_type": "execute_result"
    },
    {
     "data": {
      "image/png": "[encoded data removed]",
      "text/plain": [
       "<Figure size 432x288 with 1 Axes>"
      ]
     },
     "metadata": {
      "needs_background": "light"
     },
     "output_type": "display_data"
    }
   ],
   "source": [
    "n=np.linspace(0,n_iterations, n_iterations)\n",
    "\n",
    "plt.plot(n,c,\"*\", color=\"skyblue\", label=\"valeur de base\")\n",
    "plt.xlabel(\"itérations\")\n",
    "plt.ylabel(\"cout\")\n",
    "plt.title(\"fonction du coût selon les itérations\")"
   ]
  },
  {
   "cell_type": "markdown",
   "metadata": {},
   "source": [
    "#  Régression linéaire multiple"
   ]
  },
  {
   "cell_type": "code",
   "execution_count": 3,
   "metadata": {},
   "outputs": [],
   "source": [
    "def fonctionDeCout(X, y, theta):  \n",
    "    m = y.size\n",
    "    C = (X@theta-y).T@(X@theta-y)\n",
    "    return C"
   ]
  },
  {
   "cell_type": "code",
   "execution_count": 4,
   "metadata": {},
   "outputs": [],
   "source": [
    "def descenteDeGradient(X, y, theta, alpha, nombre_iterations):  \n",
    "    m = y.size  #nombre de données\n",
    "    n = theta.size # nombre de paramètres\n",
    "    for j in range(nombre_iterations):\n",
    "        for i in range(m):\n",
    "            h = X[i].T@theta\n",
    "            theta = theta - alpha/m*(h- y[i][0])*np.array([X[i]]).T\n",
    "         \n",
    "    return theta, fonctionDeCout(X, y, theta)"
   ]
  },
  {
   "cell_type": "code",
   "execution_count": 5,
   "metadata": {},
   "outputs": [
    {
     "data": {
      "text/html": [
       "<div>\n",
       "<style scoped>\n",
       "    .dataframe tbody tr th:only-of-type {\n",
       "        vertical-align: middle;\n",
       "    }\n",
       "\n",
       "    .dataframe tbody tr th {\n",
       "        vertical-align: top;\n",
       "    }\n",
       "\n",
       "    .dataframe thead th {\n",
       "        text-align: right;\n",
       "    }\n",
       "</style>\n",
       "<table border=\"1\" class=\"dataframe\">\n",
       "  <thead>\n",
       "    <tr style=\"text-align: right;\">\n",
       "      <th></th>\n",
       "      <th>CRIM</th>\n",
       "      <th>ZN</th>\n",
       "      <th>INDUS</th>\n",
       "      <th>CHAS</th>\n",
       "      <th>NOX</th>\n",
       "      <th>RM</th>\n",
       "      <th>AGE</th>\n",
       "      <th>DIS</th>\n",
       "      <th>RAD</th>\n",
       "      <th>TAX</th>\n",
       "      <th>PTRATIO</th>\n",
       "      <th>B</th>\n",
       "      <th>LSTAT</th>\n",
       "      <th>MEDV</th>\n",
       "    </tr>\n",
       "  </thead>\n",
       "  <tbody>\n",
       "    <tr>\n",
       "      <th>0</th>\n",
       "      <td>0.00632</td>\n",
       "      <td>18.0</td>\n",
       "      <td>2.31</td>\n",
       "      <td>0</td>\n",
       "      <td>0.538</td>\n",
       "      <td>6.575</td>\n",
       "      <td>65.2</td>\n",
       "      <td>4.0900</td>\n",
       "      <td>1</td>\n",
       "      <td>296</td>\n",
       "      <td>15.3</td>\n",
       "      <td>396.90</td>\n",
       "      <td>4.98</td>\n",
       "      <td>24.0</td>\n",
       "    </tr>\n",
       "    <tr>\n",
       "      <th>1</th>\n",
       "      <td>0.02731</td>\n",
       "      <td>0.0</td>\n",
       "      <td>7.07</td>\n",
       "      <td>0</td>\n",
       "      <td>0.469</td>\n",
       "      <td>6.421</td>\n",
       "      <td>78.9</td>\n",
       "      <td>4.9671</td>\n",
       "      <td>2</td>\n",
       "      <td>242</td>\n",
       "      <td>17.8</td>\n",
       "      <td>396.90</td>\n",
       "      <td>9.14</td>\n",
       "      <td>21.6</td>\n",
       "    </tr>\n",
       "    <tr>\n",
       "      <th>2</th>\n",
       "      <td>0.02729</td>\n",
       "      <td>0.0</td>\n",
       "      <td>7.07</td>\n",
       "      <td>0</td>\n",
       "      <td>0.469</td>\n",
       "      <td>7.185</td>\n",
       "      <td>61.1</td>\n",
       "      <td>4.9671</td>\n",
       "      <td>2</td>\n",
       "      <td>242</td>\n",
       "      <td>17.8</td>\n",
       "      <td>392.83</td>\n",
       "      <td>4.03</td>\n",
       "      <td>34.7</td>\n",
       "    </tr>\n",
       "    <tr>\n",
       "      <th>3</th>\n",
       "      <td>0.03237</td>\n",
       "      <td>0.0</td>\n",
       "      <td>2.18</td>\n",
       "      <td>0</td>\n",
       "      <td>0.458</td>\n",
       "      <td>6.998</td>\n",
       "      <td>45.8</td>\n",
       "      <td>6.0622</td>\n",
       "      <td>3</td>\n",
       "      <td>222</td>\n",
       "      <td>18.7</td>\n",
       "      <td>394.63</td>\n",
       "      <td>2.94</td>\n",
       "      <td>33.4</td>\n",
       "    </tr>\n",
       "    <tr>\n",
       "      <th>4</th>\n",
       "      <td>0.06905</td>\n",
       "      <td>0.0</td>\n",
       "      <td>2.18</td>\n",
       "      <td>0</td>\n",
       "      <td>0.458</td>\n",
       "      <td>7.147</td>\n",
       "      <td>54.2</td>\n",
       "      <td>6.0622</td>\n",
       "      <td>3</td>\n",
       "      <td>222</td>\n",
       "      <td>18.7</td>\n",
       "      <td>396.90</td>\n",
       "      <td>5.33</td>\n",
       "      <td>36.2</td>\n",
       "    </tr>\n",
       "  </tbody>\n",
       "</table>\n",
       "</div>"
      ],
      "text/plain": [
       "      CRIM    ZN  INDUS  CHAS    NOX     RM   AGE     DIS  RAD  TAX  PTRATIO  \\\n",
       "0  0.00632  18.0   2.31     0  0.538  6.575  65.2  4.0900    1  296     15.3   \n",
       "1  0.02731   0.0   7.07     0  0.469  6.421  78.9  4.9671    2  242     17.8   \n",
       "2  0.02729   0.0   7.07     0  0.469  7.185  61.1  4.9671    2  242     17.8   \n",
       "3  0.03237   0.0   2.18     0  0.458  6.998  45.8  6.0622    3  222     18.7   \n",
       "4  0.06905   0.0   2.18     0  0.458  7.147  54.2  6.0622    3  222     18.7   \n",
       "\n",
       "        B  LSTAT  MEDV  \n",
       "0  396.90   4.98  24.0  \n",
       "1  396.90   9.14  21.6  \n",
       "2  392.83   4.03  34.7  \n",
       "3  394.63   2.94  33.4  \n",
       "4  396.90   5.33  36.2  "
      ]
     },
     "execution_count": 5,
     "metadata": {},
     "output_type": "execute_result"
    }
   ],
   "source": [
    "##Chargement des données\n",
    "data = pd.read_csv(\"boston_house_prices.csv\")  \n",
    "#print(data.head())\n",
    "data.head()"
   ]
  },
  {
   "cell_type": "code",
   "execution_count": 6,
   "metadata": {},
   "outputs": [
    {
     "data": {
      "text/plain": [
       "<matplotlib.axes._subplots.AxesSubplot at 0x26554e3c040>"
      ]
     },
     "execution_count": 6,
     "metadata": {},
     "output_type": "execute_result"
    },
    {
     "data": {
      "image/png": "[encoded data removed]",
      "text/plain": [
       "<Figure size 1440x1440 with 2 Axes>"
      ]
     },
     "metadata": {
      "needs_background": "light"
     },
     "output_type": "display_data"
    }
   ],
   "source": [
    "import seaborn as sns\n",
    "plt.figure( figsize=(20,20))\n",
    "sns.heatmap(data.corr(),annot=True)"
   ]
  },
  {
   "cell_type": "code",
   "execution_count": 7,
   "metadata": {},
   "outputs": [],
   "source": [
    "##On récupère les données dans des array X et y\n",
    "nombreColonnes = data.shape[1]  \n",
    "X = data.iloc[:,0:nombreColonnes -1]  \n",
    "y = data.iloc[:,nombreColonnes -1:nombreColonnes]"
   ]
  },
  {
   "cell_type": "code",
   "execution_count": 8,
   "metadata": {},
   "outputs": [
    {
     "data": {
      "text/plain": [
       "array([[6.3200e-03, 1.8000e+01, 2.3100e+00, ..., 1.5300e+01, 3.9690e+02,\n",
       "        4.9800e+00],\n",
       "       [2.7310e-02, 0.0000e+00, 7.0700e+00, ..., 1.7800e+01, 3.9690e+02,\n",
       "        9.1400e+00],\n",
       "       [2.7290e-02, 0.0000e+00, 7.0700e+00, ..., 1.7800e+01, 3.9283e+02,\n",
       "        4.0300e+00],\n",
       "       ...,\n",
       "       [6.0760e-02, 0.0000e+00, 1.1930e+01, ..., 2.1000e+01, 3.9690e+02,\n",
       "        5.6400e+00],\n",
       "       [1.0959e-01, 0.0000e+00, 1.1930e+01, ..., 2.1000e+01, 3.9345e+02,\n",
       "        6.4800e+00],\n",
       "       [4.7410e-02, 0.0000e+00, 1.1930e+01, ..., 2.1000e+01, 3.9690e+02,\n",
       "        7.8800e+00]])"
      ]
     },
     "execution_count": 8,
     "metadata": {},
     "output_type": "execute_result"
    }
   ],
   "source": [
    "X = np.array(X.values)  \n",
    "y = np.array(y.values)\n",
    "m = X.shape[0]\n",
    "\n",
    "#print(X)\n",
    "X"
   ]
  },
  {
   "cell_type": "code",
   "execution_count": 9,
   "metadata": {},
   "outputs": [],
   "source": [
    "##On normalise les données afin d'éviter de créer des biais\n",
    "##np.mean pour la moyenne et np.std pour l'ecart type\n",
    "moyennes, ecs = [],[]\n",
    "\n",
    "X_norm = np.zeros(X.shape)\n",
    "for i in range(X.shape[1]):\n",
    "    moyenne_donnee = np.mean(X[:,i])\n",
    "    ec_donnee = np.std(X[:,i])\n",
    "    X_norm[:,i] = (X[:,i] - (np.ones(X[:,i].shape))*moyenne_donnee)/ec_donnee\n",
    "    moyennes.append(moyenne_donnee)\n",
    "    ecs.append(ec_donnee)\n",
    "\n",
    "X = X_norm"
   ]
  },
  {
   "cell_type": "code",
   "execution_count": 10,
   "metadata": {},
   "outputs": [],
   "source": [
    "##On ajouite une colonne de 1\n",
    "X = np.concatenate((np.ones((m, 1)), X), axis=1)"
   ]
  },
  {
   "cell_type": "code",
   "execution_count": 11,
   "metadata": {},
   "outputs": [
    {
     "name": "stdout",
     "output_type": "stream",
     "text": [
      "teta:  [[21.99678866]\n",
      " [-1.23399015]\n",
      " [ 0.81177416]\n",
      " [ 0.13724601]\n",
      " [ 0.93078914]\n",
      " [-2.06958538]\n",
      " [ 1.75488027]\n",
      " [ 0.10221821]\n",
      " [-2.71588863]\n",
      " [ 2.20069014]\n",
      " [-1.58229158]\n",
      " [-1.74311119]\n",
      " [ 0.68841687]\n",
      " [-4.2985838 ]]\n",
      "cout:  [[11746.6588163]]\n"
     ]
    }
   ],
   "source": [
    "##On effectue la descente de gradient\n",
    "\n",
    "alpha = 2\n",
    "nombre_iterations = 50\n",
    "\n",
    "n = X.shape[1]\n",
    "theta = np.zeros((n,1))\n",
    "theta, cout = descenteDeGradient(X, y, theta, alpha, nombre_iterations)\n",
    "\n",
    "\n",
    "\n",
    "\n",
    "print(\"teta: \",theta)\n",
    "print(\"cout: \",cout)"
   ]
  },
  {
   "cell_type": "code",
   "execution_count": 12,
   "metadata": {},
   "outputs": [
    {
     "name": "stdout",
     "output_type": "stream",
     "text": [
      "0.1563639609142039 0.1721868499782961\n",
      "0.16417298806489958 0.18533084355079613\n"
     ]
    }
   ],
   "source": [
    "#Pour comparer, on peut utiliser la formule des moindes-carres\n",
    "theta_mc = np.linalg.inv(X.T@X)@X.T@y\n",
    "\n",
    "\n",
    "error = []\n",
    "error_mc = []\n",
    "for i in range(X.shape[0]):\n",
    "    error.append(np.abs((X[i]@theta-y[i])[0]/y[i,0]))\n",
    "    error_mc.append(np.abs((X[i]@theta_mc-y[i])[0]/y[i,0]))\n",
    "    \n",
    "print(np.mean(error),np.std(error))\n",
    "print(np.mean(error_mc),np.std(error_mc))"
   ]
  },
  {
   "cell_type": "code",
   "execution_count": 13,
   "metadata": {},
   "outputs": [],
   "source": [
    "def model(X,theta):\n",
    "    return X.dot(theta)"
   ]
  },
  {
   "cell_type": "code",
   "execution_count": 14,
   "metadata": {},
   "outputs": [
    {
     "data": {
      "text/plain": [
       "array([[29.30892171],\n",
       "       [24.77904992],\n",
       "       [29.67273499],\n",
       "       [28.21972955],\n",
       "       [27.19455391],\n",
       "       [25.47528708],\n",
       "       [22.61899398],\n",
       "       [18.57533786],\n",
       "       [10.48448402],\n",
       "       [18.44455621],\n",
       "       [17.74189178],\n",
       "       [21.31012704],\n",
       "       [20.33701241],\n",
       "       [20.4196876 ],\n",
       "       [19.85311185],\n",
       "       [20.24675417],\n",
       "       [21.41176265],\n",
       "       [17.21385478],\n",
       "       [17.36559298],\n",
       "       [19.19039964],\n",
       "       [12.84713507],\n",
       "       [18.03572259],\n",
       "       [15.56492227],\n",
       "       [13.93810143],\n",
       "       [15.99091297],\n",
       "       [14.25114458],\n",
       "       [16.11233159],\n",
       "       [14.92584164],\n",
       "       [19.4058513 ],\n",
       "       [20.50898479],\n",
       "       [11.5699328 ],\n",
       "       [18.4170052 ],\n",
       "       [ 8.35333939],\n",
       "       [14.6660151 ],\n",
       "       [13.59679279],\n",
       "       [23.98826588],\n",
       "       [22.51764983],\n",
       "       [23.48879692],\n",
       "       [22.99063912],\n",
       "       [30.36044949],\n",
       "       [32.82021781],\n",
       "       [27.52119694],\n",
       "       [25.43019349],\n",
       "       [24.63382306],\n",
       "       [23.09619797],\n",
       "       [22.55922275],\n",
       "       [20.44094151],\n",
       "       [17.64115635],\n",
       "       [ 8.65730537],\n",
       "       [17.57085599],\n",
       "       [21.05395187],\n",
       "       [23.91361077],\n",
       "       [27.27257265],\n",
       "       [24.09362474],\n",
       "       [15.953411  ],\n",
       "       [29.45794693],\n",
       "       [24.73495254],\n",
       "       [31.60028893],\n",
       "       [22.25061327],\n",
       "       [21.54303979],\n",
       "       [18.38015093],\n",
       "       [18.65782661],\n",
       "       [24.06089482],\n",
       "       [22.08062153],\n",
       "       [22.84600585],\n",
       "       [29.76443247],\n",
       "       [25.19788592],\n",
       "       [21.99269899],\n",
       "       [18.32598617],\n",
       "       [21.63172351],\n",
       "       [25.30450849],\n",
       "       [22.23865189],\n",
       "       [25.20560143],\n",
       "       [24.31404697],\n",
       "       [25.72259475],\n",
       "       [24.1806135 ],\n",
       "       [22.95295414],\n",
       "       [23.57846801],\n",
       "       [21.39767314],\n",
       "       [23.12208581],\n",
       "       [27.90493306],\n",
       "       [26.5960446 ],\n",
       "       [25.97667008],\n",
       "       [25.16875324],\n",
       "       [24.48421925],\n",
       "       [27.38352318],\n",
       "       [22.03403426],\n",
       "       [25.87307774],\n",
       "       [29.76128622],\n",
       "       [29.7399228 ],\n",
       "       [26.60940844],\n",
       "       [26.98699336],\n",
       "       [28.13862944],\n",
       "       [28.65816267],\n",
       "       [26.35791321],\n",
       "       [28.17029188],\n",
       "       [24.48868848],\n",
       "       [33.61076275],\n",
       "       [33.21189949],\n",
       "       [30.74357613],\n",
       "       [24.216055  ],\n",
       "       [25.2842921 ],\n",
       "       [20.32662578],\n",
       "       [20.41624531],\n",
       "       [21.54561507],\n",
       "       [18.70217039],\n",
       "       [17.19992869],\n",
       "       [20.71665509],\n",
       "       [22.38065537],\n",
       "       [19.57572599],\n",
       "       [20.6324464 ],\n",
       "       [25.73565493],\n",
       "       [20.53659977],\n",
       "       [20.21225119],\n",
       "       [24.90369057],\n",
       "       [20.30193141],\n",
       "       [23.13261991],\n",
       "       [23.81426335],\n",
       "       [20.28189237],\n",
       "       [20.99448768],\n",
       "       [21.47971216],\n",
       "       [21.91814097],\n",
       "       [19.78006212],\n",
       "       [15.14239897],\n",
       "       [19.90949263],\n",
       "       [21.86890812],\n",
       "       [13.53954453],\n",
       "       [15.66408784],\n",
       "       [18.59932493],\n",
       "       [14.52587981],\n",
       "       [19.93710082],\n",
       "       [19.50226937],\n",
       "       [20.23458338],\n",
       "       [16.36998357],\n",
       "       [13.96118751],\n",
       "       [16.9759429 ],\n",
       "       [16.10795107],\n",
       "       [19.0641078 ],\n",
       "       [13.74892861],\n",
       "       [16.20039017],\n",
       "       [12.85091298],\n",
       "       [ 3.90760593],\n",
       "       [14.36739509],\n",
       "       [10.87474557],\n",
       "       [ 7.99917489],\n",
       "       [10.24490515],\n",
       "       [15.58712742],\n",
       "       [ 7.7759545 ],\n",
       "       [ 8.80267083],\n",
       "       [13.88209134],\n",
       "       [19.82578564],\n",
       "       [18.3562156 ],\n",
       "       [21.74151138],\n",
       "       [16.86514575],\n",
       "       [22.36657572],\n",
       "       [20.37728315],\n",
       "       [14.04825366],\n",
       "       [32.02114768],\n",
       "       [28.79510779],\n",
       "       [24.62696951],\n",
       "       [33.30074242],\n",
       "       [35.01325714],\n",
       "       [39.34771306],\n",
       "       [39.80091409],\n",
       "       [24.41979569],\n",
       "       [25.05583128],\n",
       "       [34.73183426],\n",
       "       [22.92437437],\n",
       "       [25.59087471],\n",
       "       [25.68004837],\n",
       "       [22.16886011],\n",
       "       [23.94790778],\n",
       "       [22.81740546],\n",
       "       [28.24732425],\n",
       "       [26.34939155],\n",
       "       [29.96430391],\n",
       "       [25.29134045],\n",
       "       [28.75252057],\n",
       "       [30.2239367 ],\n",
       "       [31.61004066],\n",
       "       [32.24704816],\n",
       "       [27.17329574],\n",
       "       [32.44299599],\n",
       "       [30.28777475],\n",
       "       [22.64393524],\n",
       "       [24.03743155],\n",
       "       [33.56576529],\n",
       "       [31.97334913],\n",
       "       [31.54753359],\n",
       "       [32.76777666],\n",
       "       [29.67826029],\n",
       "       [29.52298841],\n",
       "       [31.70418631],\n",
       "       [30.83654316],\n",
       "       [30.64577831],\n",
       "       [37.68285157],\n",
       "       [34.01637632],\n",
       "       [30.52348681],\n",
       "       [32.43354097],\n",
       "       [28.9956586 ],\n",
       "       [29.36373173],\n",
       "       [28.54904846],\n",
       "       [34.70367187],\n",
       "       [38.51893448],\n",
       "       [39.51242182],\n",
       "       [22.75448464],\n",
       "       [23.33414949],\n",
       "       [17.73368359],\n",
       "       [24.20851548],\n",
       "       [18.02236339],\n",
       "       [23.04780087],\n",
       "       [17.86185985],\n",
       "       [23.53949555],\n",
       "       [24.81438604],\n",
       "       [10.33388345],\n",
       "       [24.36511773],\n",
       "       [27.01593514],\n",
       "       [27.23768299],\n",
       "       [24.96284815],\n",
       "       [29.84739488],\n",
       "       [32.62791624],\n",
       "       [23.36963519],\n",
       "       [31.69823347],\n",
       "       [28.84308632],\n",
       "       [35.53380029],\n",
       "       [36.34977595],\n",
       "       [35.20033576],\n",
       "       [30.91769253],\n",
       "       [33.31841968],\n",
       "       [30.59644264],\n",
       "       [24.17316274],\n",
       "       [31.63306427],\n",
       "       [35.39616553],\n",
       "       [34.49210229],\n",
       "       [31.71480538],\n",
       "       [24.86490146],\n",
       "       [30.17815411],\n",
       "       [31.22142675],\n",
       "       [27.83536964],\n",
       "       [27.65699406],\n",
       "       [25.87693681],\n",
       "       [23.32297643],\n",
       "       [23.57959189],\n",
       "       [27.14778034],\n",
       "       [17.420214  ],\n",
       "       [13.96384227],\n",
       "       [20.55350614],\n",
       "       [20.32762108],\n",
       "       [21.4048148 ],\n",
       "       [23.92588197],\n",
       "       [24.31098968],\n",
       "       [25.40987436],\n",
       "       [24.87348549],\n",
       "       [28.16883215],\n",
       "       [24.13471653],\n",
       "       [21.91208095],\n",
       "       [35.16264242],\n",
       "       [38.76074809],\n",
       "       [33.59522778],\n",
       "       [32.82025382],\n",
       "       [31.92816976],\n",
       "       [34.08392755],\n",
       "       [36.89872523],\n",
       "       [31.29083884],\n",
       "       [33.06556994],\n",
       "       [27.36056785],\n",
       "       [28.20455828],\n",
       "       [36.72474994],\n",
       "       [36.65115029],\n",
       "       [26.28880821],\n",
       "       [22.0710848 ],\n",
       "       [26.88163364],\n",
       "       [27.74643212],\n",
       "       [34.33842693],\n",
       "       [35.9752547 ],\n",
       "       [32.66381704],\n",
       "       [34.80710773],\n",
       "       [34.70592443],\n",
       "       [29.32445204],\n",
       "       [33.69315257],\n",
       "       [36.17324934],\n",
       "       [32.77068698],\n",
       "       [39.05339582],\n",
       "       [42.19485251],\n",
       "       [29.62250149],\n",
       "       [26.667878  ],\n",
       "       [19.72413338],\n",
       "       [26.68347966],\n",
       "       [26.72226551],\n",
       "       [25.92427153],\n",
       "       [32.13147266],\n",
       "       [32.70339414],\n",
       "       [30.71193702],\n",
       "       [25.68636417],\n",
       "       [24.3816828 ],\n",
       "       [27.9043582 ],\n",
       "       [26.95961208],\n",
       "       [19.54970981],\n",
       "       [28.6353452 ],\n",
       "       [30.503802  ],\n",
       "       [29.56051013],\n",
       "       [27.7836274 ],\n",
       "       [27.86640386],\n",
       "       [31.42754513],\n",
       "       [31.17027589],\n",
       "       [29.31630766],\n",
       "       [33.23225429],\n",
       "       [31.05606593],\n",
       "       [28.31732487],\n",
       "       [23.66004515],\n",
       "       [19.49113254],\n",
       "       [26.89072978],\n",
       "       [23.14258403],\n",
       "       [25.44754913],\n",
       "       [24.94963547],\n",
       "       [21.00166463],\n",
       "       [17.30710315],\n",
       "       [18.38993336],\n",
       "       [23.8450802 ],\n",
       "       [21.10511045],\n",
       "       [24.8570643 ],\n",
       "       [24.93616098],\n",
       "       [23.32487584],\n",
       "       [20.11283704],\n",
       "       [25.17776312],\n",
       "       [24.85219201],\n",
       "       [23.96984556],\n",
       "       [19.45916138],\n",
       "       [21.81787843],\n",
       "       [24.47914415],\n",
       "       [22.10889778],\n",
       "       [20.28470806],\n",
       "       [23.61286278],\n",
       "       [22.60389315],\n",
       "       [21.9452109 ],\n",
       "       [21.15601666],\n",
       "       [20.67480543],\n",
       "       [19.81936073],\n",
       "       [22.42965685],\n",
       "       [21.53554725],\n",
       "       [21.81087092],\n",
       "       [29.03007101],\n",
       "       [22.17885258],\n",
       "       [26.87787342],\n",
       "       [27.75371632],\n",
       "       [17.63706947],\n",
       "       [15.90830173],\n",
       "       [24.88547321],\n",
       "       [26.7177231 ],\n",
       "       [22.21319925],\n",
       "       [21.12086602],\n",
       "       [21.13209624],\n",
       "       [18.10908722],\n",
       "       [24.86121919],\n",
       "       [15.91249716],\n",
       "       [18.02046788],\n",
       "       [19.62320542],\n",
       "       [23.01190786],\n",
       "       [22.94872269],\n",
       "       [18.89373918],\n",
       "       [22.39938879],\n",
       "       [18.39512437],\n",
       "       [19.09929287],\n",
       "       [21.13174925],\n",
       "       [35.23469309],\n",
       "       [17.65606992],\n",
       "       [16.68028034],\n",
       "       [13.42815958],\n",
       "       [25.57429003],\n",
       "       [33.08687264],\n",
       "       [34.5865673 ],\n",
       "       [24.42928425],\n",
       "       [26.98903921],\n",
       "       [ 5.2404853 ],\n",
       "       [ 0.37903172],\n",
       "       [22.64510643],\n",
       "       [15.39121076],\n",
       "       [18.0023532 ],\n",
       "       [13.46006011],\n",
       "       [15.0386158 ],\n",
       "       [ 9.39843548],\n",
       "       [16.40027665],\n",
       "       [12.72538221],\n",
       "       [12.3395404 ],\n",
       "       [ 3.3159281 ],\n",
       "       [ 6.83083647],\n",
       "       [ 5.65776203],\n",
       "       [ 4.44608651],\n",
       "       [ 5.92358918],\n",
       "       [13.97135918],\n",
       "       [16.92156045],\n",
       "       [16.52669604],\n",
       "       [ 9.62300172],\n",
       "       [19.35140038],\n",
       "       [17.21764663],\n",
       "       [18.93108557],\n",
       "       [17.90894347],\n",
       "       [15.71188073],\n",
       "       [ 4.36026708],\n",
       "       [ 9.27677722],\n",
       "       [ 9.77973155],\n",
       "       [16.1275256 ],\n",
       "       [16.7117347 ],\n",
       "       [12.27588284],\n",
       "       [ 5.3189751 ],\n",
       "       [ 5.2673149 ],\n",
       "       [ 8.78226336],\n",
       "       [20.04460967],\n",
       "       [12.87197629],\n",
       "       [17.9109038 ],\n",
       "       [14.46363515],\n",
       "       [15.44206966],\n",
       "       [ 1.6809098 ],\n",
       "       [11.52441143],\n",
       "       [-5.43419011],\n",
       "       [ 7.66584588],\n",
       "       [11.48468336],\n",
       "       [ 6.12241966],\n",
       "       [ 3.54996738],\n",
       "       [12.77360399],\n",
       "       [18.5387046 ],\n",
       "       [17.67207979],\n",
       "       [18.53723801],\n",
       "       [12.57321311],\n",
       "       [15.10998495],\n",
       "       [ 9.1869478 ],\n",
       "       [16.38356736],\n",
       "       [12.8520257 ],\n",
       "       [13.45414725],\n",
       "       [11.84570574],\n",
       "       [17.49404288],\n",
       "       [17.21385964],\n",
       "       [21.23864469],\n",
       "       [16.47470039],\n",
       "       [15.49077289],\n",
       "       [11.7693294 ],\n",
       "       [13.55766599],\n",
       "       [ 7.61643708],\n",
       "       [ 3.2548457 ],\n",
       "       [12.31448367],\n",
       "       [11.32802881],\n",
       "       [15.84809911],\n",
       "       [17.89023329],\n",
       "       [16.5424352 ],\n",
       "       [10.57199284],\n",
       "       [10.65987487],\n",
       "       [16.69673262],\n",
       "       [17.13317758],\n",
       "       [16.50689123],\n",
       "       [16.03264836],\n",
       "       [15.61208742],\n",
       "       [18.04454916],\n",
       "       [17.66196896],\n",
       "       [20.11652253],\n",
       "       [14.22359798],\n",
       "       [15.13343855],\n",
       "       [12.75553622],\n",
       "       [13.05892317],\n",
       "       [16.49921586],\n",
       "       [18.03607131],\n",
       "       [17.94133523],\n",
       "       [19.41748369],\n",
       "       [19.04800015],\n",
       "       [21.80225797],\n",
       "       [19.74915231],\n",
       "       [18.07985368],\n",
       "       [14.68137534],\n",
       "       [16.2702977 ],\n",
       "       [16.19177989],\n",
       "       [18.31886682],\n",
       "       [19.61364376],\n",
       "       [22.6594947 ],\n",
       "       [21.68100342],\n",
       "       [24.20421782],\n",
       "       [16.53118795],\n",
       "       [14.93650292],\n",
       "       [19.25289223],\n",
       "       [11.01590629],\n",
       "       [18.18775824],\n",
       "       [20.95225535],\n",
       "       [23.21688666],\n",
       "       [26.43880949],\n",
       "       [27.5753536 ],\n",
       "       [21.65224014],\n",
       "       [19.63826621],\n",
       "       [22.04363646],\n",
       "       [19.31520766],\n",
       "       [21.42042223],\n",
       "       [13.22320176],\n",
       "       [ 9.27713283],\n",
       "       [ 4.74935616],\n",
       "       [14.46985771],\n",
       "       [16.99654742],\n",
       "       [20.95309543],\n",
       "       [20.49189389],\n",
       "       [16.83444083],\n",
       "       [14.17305398],\n",
       "       [19.29823893],\n",
       "       [21.18105845],\n",
       "       [18.78441104],\n",
       "       [20.29089285],\n",
       "       [23.1394178 ],\n",
       "       [22.6262707 ],\n",
       "       [27.04380979],\n",
       "       [25.75757894],\n",
       "       [22.85811235]])"
      ]
     },
     "execution_count": 14,
     "metadata": {},
     "output_type": "execute_result"
    }
   ],
   "source": [
    "Y_pred=model(X,theta)\n",
    "Y_pred"
   ]
  },
  {
   "cell_type": "code",
   "execution_count": 15,
   "metadata": {},
   "outputs": [
    {
     "data": {
      "text/plain": [
       "0.725940287449109"
      ]
     },
     "execution_count": 15,
     "metadata": {},
     "output_type": "execute_result"
    }
   ],
   "source": [
    "U=np.ones(Y_pred.shape)\n",
    "Y_moy=U*model(X,theta).mean()\n",
    "\n",
    "def R2(Y, Y_pred, Y_moy):\n",
    "    u=np.sum((Y-Y_pred)**2)\n",
    "    v=np.sum((Y-Y_moy)**2)\n",
    "    return 1-(u/v)\n",
    "\n",
    "R2(y,Y_pred,Y_moy)"
   ]
  },
  {
   "cell_type": "code",
   "execution_count": 16,
   "metadata": {},
   "outputs": [
    {
     "data": {
      "text/plain": [
       "Text(0.5, 0, 'MEDV')"
      ]
     },
     "execution_count": 16,
     "metadata": {},
     "output_type": "execute_result"
    },
    {
     "data": {
      "image/png": "[encoded data removed]",
      "text/plain": [
       "<Figure size 432x288 with 1 Axes>"
      ]
     },
     "metadata": {
      "needs_background": "light"
     },
     "output_type": "display_data"
    }
   ],
   "source": [
    "#plt.plot(X[:,1],X[:,2],y,\".\", color=\"darkred\", label=\"valeur de base\")\n",
    "#plt.plot(X[:,1],X[:,2],Y_pred, label=\"valeur predite\")\n",
    "\n",
    "\n",
    "fig = plt.figure()\n",
    "ax = fig.add_subplot(projection='3d')\n",
    "\n",
    "\n",
    "ax.scatter(X[:,7], X[:,6], Y_pred, c='b')\n",
    "ax.set_title(\"Régression multiple test\")\n",
    "ax.set_xlabel(\"DIS\")\n",
    "ax.set_ylabel(\"AGE\")\n",
    "ax.set_zlabel(\"MEDV\")"
   ]
  },
  {
   "cell_type": "code",
   "execution_count": 52,
   "metadata": {},
   "outputs": [
    {
     "data": {
      "text/plain": [
       "Text(0.5, 0, 'MEDV')"
      ]
     },
     "execution_count": 52,
     "metadata": {},
     "output_type": "execute_result"
    },
    {
     "data": {
      "image/png": "[encoded data removed]",
      "text/plain": [
       "<Figure size 432x288 with 1 Axes>"
      ]
     },
     "metadata": {
      "needs_background": "light"
     },
     "output_type": "display_data"
    }
   ],
   "source": [
    "fig2 = plt.figure()\n",
    "ax2 = fig2.add_subplot(projection='3d')\n",
    "\n",
    "ax2.scatter(X[:,7], X[:,5], Y_pred, c='r')\n",
    "ax2.set_title(\"Régression multiple test\")\n",
    "ax2.set_xlabel(\"DIV\")\n",
    "ax2.set_ylabel(\"NOX\")\n",
    "ax2.set_zlabel(\"MEDV\")"
   ]
  },
  {
   "cell_type": "markdown",
   "metadata": {},
   "source": [
    "# Régression Polynomiale pour Position Salaries"
   ]
  },
  {
   "cell_type": "code",
   "execution_count": 53,
   "metadata": {},
   "outputs": [
    {
     "data": {
      "text/html": [
       "<div>\n",
       "<style scoped>\n",
       "    .dataframe tbody tr th:only-of-type {\n",
       "        vertical-align: middle;\n",
       "    }\n",
       "\n",
       "    .dataframe tbody tr th {\n",
       "        vertical-align: top;\n",
       "    }\n",
       "\n",
       "    .dataframe thead th {\n",
       "        text-align: right;\n",
       "    }\n",
       "</style>\n",
       "<table border=\"1\" class=\"dataframe\">\n",
       "  <thead>\n",
       "    <tr style=\"text-align: right;\">\n",
       "      <th></th>\n",
       "      <th>Position</th>\n",
       "      <th>Level</th>\n",
       "      <th>Salary</th>\n",
       "    </tr>\n",
       "  </thead>\n",
       "  <tbody>\n",
       "    <tr>\n",
       "      <th>0</th>\n",
       "      <td>Project Analyste</td>\n",
       "      <td>1</td>\n",
       "      <td>45000</td>\n",
       "    </tr>\n",
       "    <tr>\n",
       "      <th>1</th>\n",
       "      <td>Ingenieur</td>\n",
       "      <td>2</td>\n",
       "      <td>50000</td>\n",
       "    </tr>\n",
       "    <tr>\n",
       "      <th>2</th>\n",
       "      <td>Senior Consultant</td>\n",
       "      <td>3</td>\n",
       "      <td>60000</td>\n",
       "    </tr>\n",
       "    <tr>\n",
       "      <th>3</th>\n",
       "      <td>Manager</td>\n",
       "      <td>4</td>\n",
       "      <td>80000</td>\n",
       "    </tr>\n",
       "    <tr>\n",
       "      <th>4</th>\n",
       "      <td>Country Manager</td>\n",
       "      <td>5</td>\n",
       "      <td>110000</td>\n",
       "    </tr>\n",
       "  </tbody>\n",
       "</table>\n",
       "</div>"
      ],
      "text/plain": [
       "            Position  Level  Salary\n",
       "0   Project Analyste      1   45000\n",
       "1          Ingenieur      2   50000\n",
       "2  Senior Consultant      3   60000\n",
       "3            Manager      4   80000\n",
       "4    Country Manager      5  110000"
      ]
     },
     "execution_count": 53,
     "metadata": {},
     "output_type": "execute_result"
    }
   ],
   "source": [
    "ps=pd.read_csv(\"Position_Salaries.csv\")\n",
    "ps.head()"
   ]
  },
  {
   "cell_type": "code",
   "execution_count": 54,
   "metadata": {},
   "outputs": [
    {
     "data": {
      "text/plain": [
       "Text(0.5, 1.0, 'Régresion linéaire polynomiale')"
      ]
     },
     "execution_count": 54,
     "metadata": {},
     "output_type": "execute_result"
    },
    {
     "data": {
      "image/png": "[encoded data removed]",
      "text/plain": [
       "<Figure size 432x288 with 1 Axes>"
      ]
     },
     "metadata": {
      "needs_background": "light"
     },
     "output_type": "display_data"
    }
   ],
   "source": [
    "plt.plot(ps[\"Level\"],ps[\"Salary\"], \"*-\", color=\"darkred\")\n",
    "plt.xlabel(\"Level\")\n",
    "plt.ylabel(\"Salary\")\n",
    "plt.title(\"Régresion linéaire polynomiale\")"
   ]
  },
  {
   "cell_type": "code",
   "execution_count": 55,
   "metadata": {},
   "outputs": [
    {
     "data": {
      "text/html": [
       "<div>\n",
       "<style scoped>\n",
       "    .dataframe tbody tr th:only-of-type {\n",
       "        vertical-align: middle;\n",
       "    }\n",
       "\n",
       "    .dataframe tbody tr th {\n",
       "        vertical-align: top;\n",
       "    }\n",
       "\n",
       "    .dataframe thead th {\n",
       "        text-align: right;\n",
       "    }\n",
       "</style>\n",
       "<table border=\"1\" class=\"dataframe\">\n",
       "  <thead>\n",
       "    <tr style=\"text-align: right;\">\n",
       "      <th></th>\n",
       "      <th>00</th>\n",
       "      <th>Position</th>\n",
       "      <th>Level</th>\n",
       "      <th>Salary</th>\n",
       "    </tr>\n",
       "  </thead>\n",
       "  <tbody>\n",
       "    <tr>\n",
       "      <th>0</th>\n",
       "      <td>1</td>\n",
       "      <td>Project Analyste</td>\n",
       "      <td>1</td>\n",
       "      <td>45000</td>\n",
       "    </tr>\n",
       "    <tr>\n",
       "      <th>1</th>\n",
       "      <td>1</td>\n",
       "      <td>Ingenieur</td>\n",
       "      <td>2</td>\n",
       "      <td>50000</td>\n",
       "    </tr>\n",
       "    <tr>\n",
       "      <th>2</th>\n",
       "      <td>1</td>\n",
       "      <td>Senior Consultant</td>\n",
       "      <td>3</td>\n",
       "      <td>60000</td>\n",
       "    </tr>\n",
       "    <tr>\n",
       "      <th>3</th>\n",
       "      <td>1</td>\n",
       "      <td>Manager</td>\n",
       "      <td>4</td>\n",
       "      <td>80000</td>\n",
       "    </tr>\n",
       "    <tr>\n",
       "      <th>4</th>\n",
       "      <td>1</td>\n",
       "      <td>Country Manager</td>\n",
       "      <td>5</td>\n",
       "      <td>110000</td>\n",
       "    </tr>\n",
       "  </tbody>\n",
       "</table>\n",
       "</div>"
      ],
      "text/plain": [
       "   00           Position  Level  Salary\n",
       "0   1   Project Analyste      1   45000\n",
       "1   1          Ingenieur      2   50000\n",
       "2   1  Senior Consultant      3   60000\n",
       "3   1            Manager      4   80000\n",
       "4   1    Country Manager      5  110000"
      ]
     },
     "execution_count": 55,
     "metadata": {},
     "output_type": "execute_result"
    }
   ],
   "source": [
    "ps = pd.concat([pd.Series(1, index=ps.index, name='00'), ps], axis=1)\n",
    "ps.head()"
   ]
  },
  {
   "cell_type": "code",
   "execution_count": 56,
   "metadata": {},
   "outputs": [],
   "source": [
    "ps=ps.drop(columns='Position')"
   ]
  },
  {
   "cell_type": "code",
   "execution_count": 57,
   "metadata": {},
   "outputs": [
    {
     "data": {
      "text/plain": [
       "0     45000\n",
       "1     50000\n",
       "2     60000\n",
       "3     80000\n",
       "4    110000\n",
       "Name: Salary, dtype: int64"
      ]
     },
     "execution_count": 57,
     "metadata": {},
     "output_type": "execute_result"
    }
   ],
   "source": [
    "y = ps['Salary']\n",
    "y.head()"
   ]
  },
  {
   "cell_type": "code",
   "execution_count": 58,
   "metadata": {},
   "outputs": [
    {
     "data": {
      "text/html": [
       "<div>\n",
       "<style scoped>\n",
       "    .dataframe tbody tr th:only-of-type {\n",
       "        vertical-align: middle;\n",
       "    }\n",
       "\n",
       "    .dataframe tbody tr th {\n",
       "        vertical-align: top;\n",
       "    }\n",
       "\n",
       "    .dataframe thead th {\n",
       "        text-align: right;\n",
       "    }\n",
       "</style>\n",
       "<table border=\"1\" class=\"dataframe\">\n",
       "  <thead>\n",
       "    <tr style=\"text-align: right;\">\n",
       "      <th></th>\n",
       "      <th>00</th>\n",
       "      <th>Level</th>\n",
       "    </tr>\n",
       "  </thead>\n",
       "  <tbody>\n",
       "    <tr>\n",
       "      <th>0</th>\n",
       "      <td>1</td>\n",
       "      <td>1</td>\n",
       "    </tr>\n",
       "    <tr>\n",
       "      <th>1</th>\n",
       "      <td>1</td>\n",
       "      <td>2</td>\n",
       "    </tr>\n",
       "    <tr>\n",
       "      <th>2</th>\n",
       "      <td>1</td>\n",
       "      <td>3</td>\n",
       "    </tr>\n",
       "    <tr>\n",
       "      <th>3</th>\n",
       "      <td>1</td>\n",
       "      <td>4</td>\n",
       "    </tr>\n",
       "    <tr>\n",
       "      <th>4</th>\n",
       "      <td>1</td>\n",
       "      <td>5</td>\n",
       "    </tr>\n",
       "  </tbody>\n",
       "</table>\n",
       "</div>"
      ],
      "text/plain": [
       "   00  Level\n",
       "0   1      1\n",
       "1   1      2\n",
       "2   1      3\n",
       "3   1      4\n",
       "4   1      5"
      ]
     },
     "execution_count": 58,
     "metadata": {},
     "output_type": "execute_result"
    }
   ],
   "source": [
    "X=ps.iloc[:,:-1]\n",
    "X.head()"
   ]
  },
  {
   "cell_type": "code",
   "execution_count": 59,
   "metadata": {},
   "outputs": [],
   "source": [
    "X['Level2']=X['Level']**2\n",
    "X['Level3']=X['Level']**3"
   ]
  },
  {
   "cell_type": "code",
   "execution_count": 60,
   "metadata": {},
   "outputs": [
    {
     "data": {
      "text/html": [
       "<div>\n",
       "<style scoped>\n",
       "    .dataframe tbody tr th:only-of-type {\n",
       "        vertical-align: middle;\n",
       "    }\n",
       "\n",
       "    .dataframe tbody tr th {\n",
       "        vertical-align: top;\n",
       "    }\n",
       "\n",
       "    .dataframe thead th {\n",
       "        text-align: right;\n",
       "    }\n",
       "</style>\n",
       "<table border=\"1\" class=\"dataframe\">\n",
       "  <thead>\n",
       "    <tr style=\"text-align: right;\">\n",
       "      <th></th>\n",
       "      <th>00</th>\n",
       "      <th>Level</th>\n",
       "      <th>Level2</th>\n",
       "      <th>Level3</th>\n",
       "    </tr>\n",
       "  </thead>\n",
       "  <tbody>\n",
       "    <tr>\n",
       "      <th>0</th>\n",
       "      <td>1</td>\n",
       "      <td>1</td>\n",
       "      <td>1</td>\n",
       "      <td>1</td>\n",
       "    </tr>\n",
       "    <tr>\n",
       "      <th>1</th>\n",
       "      <td>1</td>\n",
       "      <td>2</td>\n",
       "      <td>4</td>\n",
       "      <td>8</td>\n",
       "    </tr>\n",
       "    <tr>\n",
       "      <th>2</th>\n",
       "      <td>1</td>\n",
       "      <td>3</td>\n",
       "      <td>9</td>\n",
       "      <td>27</td>\n",
       "    </tr>\n",
       "    <tr>\n",
       "      <th>3</th>\n",
       "      <td>1</td>\n",
       "      <td>4</td>\n",
       "      <td>16</td>\n",
       "      <td>64</td>\n",
       "    </tr>\n",
       "    <tr>\n",
       "      <th>4</th>\n",
       "      <td>1</td>\n",
       "      <td>5</td>\n",
       "      <td>25</td>\n",
       "      <td>125</td>\n",
       "    </tr>\n",
       "  </tbody>\n",
       "</table>\n",
       "</div>"
      ],
      "text/plain": [
       "   00  Level  Level2  Level3\n",
       "0   1      1       1       1\n",
       "1   1      2       4       8\n",
       "2   1      3       9      27\n",
       "3   1      4      16      64\n",
       "4   1      5      25     125"
      ]
     },
     "execution_count": 60,
     "metadata": {},
     "output_type": "execute_result"
    }
   ],
   "source": [
    "X.head()"
   ]
  },
  {
   "cell_type": "code",
   "execution_count": 77,
   "metadata": {},
   "outputs": [],
   "source": [
    "X = X/X.max()\n",
    "y=y/y.max()"
   ]
  },
  {
   "cell_type": "code",
   "execution_count": 78,
   "metadata": {},
   "outputs": [
    {
     "data": {
      "text/plain": [
       "array([0, 0, 0, 0])"
      ]
     },
     "execution_count": 78,
     "metadata": {},
     "output_type": "execute_result"
    }
   ],
   "source": [
    "theta = np.array([0]*len(X.columns))\n",
    "theta"
   ]
  },
  {
   "cell_type": "code",
   "execution_count": 79,
   "metadata": {},
   "outputs": [],
   "source": [
    "def hypothesis(X, theta):\n",
    "    y1 = theta*X\n",
    "    return np.sum(y1, axis=1)"
   ]
  },
  {
   "cell_type": "code",
   "execution_count": 80,
   "metadata": {},
   "outputs": [],
   "source": [
    "def cost(X, y, theta):\n",
    "    y1 = hypothesis(X, theta)\n",
    "    return sum(np.sqrt((y1-y)**2))/(2*m) "
   ]
  },
  {
   "cell_type": "code",
   "execution_count": 81,
   "metadata": {},
   "outputs": [],
   "source": [
    "def gradientDescent(X, y, theta, alpha, epoch):\n",
    "    J=[]\n",
    "    k=0\n",
    "    while k < epoch:\n",
    "        y1 = hypothesis(X, theta)\n",
    "        for c in range(0, len(X.columns)):\n",
    "            theta[c] = theta[c] - alpha*sum((y1-y)* X.iloc[:, c])/m\n",
    "        j = cost(X, y, theta)\n",
    "        J.append(j)\n",
    "        k += 1\n",
    "    return J, j, theta"
   ]
  },
  {
   "cell_type": "code",
   "execution_count": 82,
   "metadata": {},
   "outputs": [],
   "source": [
    "theta = np.array([0.0]*len(X.columns))\n",
    "J, j, theta = gradientDescent(X, y, theta, 0.5, 5000)"
   ]
  },
  {
   "cell_type": "code",
   "execution_count": 83,
   "metadata": {},
   "outputs": [
    {
     "data": {
      "text/plain": [
       "array([-0.02131781,  0.00782076,  0.28331666,  0.51663078])"
      ]
     },
     "execution_count": 83,
     "metadata": {},
     "output_type": "execute_result"
    }
   ],
   "source": [
    "theta"
   ]
  },
  {
   "cell_type": "code",
   "execution_count": 84,
   "metadata": {},
   "outputs": [],
   "source": [
    "y_hat = theta*X\n",
    "y_hat = np.sum(y_hat, axis=1)"
   ]
  },
  {
   "cell_type": "code",
   "execution_count": 85,
   "metadata": {},
   "outputs": [
    {
     "data": {
      "text/plain": [
       "<matplotlib.legend.Legend at 0x1daeccc6910>"
      ]
     },
     "execution_count": 85,
     "metadata": {},
     "output_type": "execute_result"
    },
    {
     "data": {
      "image/png": "[encoded data removed]",
      "text/plain": [
       "<Figure size 432x288 with 1 Axes>"
      ]
     },
     "metadata": {
      "needs_background": "light"
     },
     "output_type": "display_data"
    }
   ],
   "source": [
    "plt.figure()\n",
    "plt.plot(X['Level'],y, label=\"base\")          \n",
    "plt.plot(X['Level'], y_hat, label=\"pred\")\n",
    "plt.xlabel(\"Level\")\n",
    "plt.ylabel(\"Y\")\n",
    "plt.legend()"
   ]
  },
  {
   "cell_type": "code",
   "execution_count": 86,
   "metadata": {},
   "outputs": [
    {
     "data": {
      "text/plain": [
       "0.009221374058322643"
      ]
     },
     "execution_count": 86,
     "metadata": {},
     "output_type": "execute_result"
    }
   ],
   "source": [
    "mean_squared_error(y,y_hat)"
   ]
  },
  {
   "cell_type": "markdown",
   "metadata": {},
   "source": [
    "#  Régression Polynomial pour qualite vin rouge"
   ]
  },
  {
   "cell_type": "code",
   "execution_count": 70,
   "metadata": {},
   "outputs": [
    {
     "data": {
      "text/html": [
       "<div>\n",
       "<style scoped>\n",
       "    .dataframe tbody tr th:only-of-type {\n",
       "        vertical-align: middle;\n",
       "    }\n",
       "\n",
       "    .dataframe tbody tr th {\n",
       "        vertical-align: top;\n",
       "    }\n",
       "\n",
       "    .dataframe thead th {\n",
       "        text-align: right;\n",
       "    }\n",
       "</style>\n",
       "<table border=\"1\" class=\"dataframe\">\n",
       "  <thead>\n",
       "    <tr style=\"text-align: right;\">\n",
       "      <th></th>\n",
       "      <th>acidité fixe</th>\n",
       "      <th>acidité volatile</th>\n",
       "      <th>acide citrique</th>\n",
       "      <th>sucre résiduel</th>\n",
       "      <th>chlorures</th>\n",
       "      <th>dioxyde de soufre libre</th>\n",
       "      <th>anhydride sulfureux total</th>\n",
       "      <th>densité</th>\n",
       "      <th>pH</th>\n",
       "      <th>sulphates</th>\n",
       "      <th>alcool</th>\n",
       "      <th>qualité</th>\n",
       "    </tr>\n",
       "  </thead>\n",
       "  <tbody>\n",
       "    <tr>\n",
       "      <th>0</th>\n",
       "      <td>7.4</td>\n",
       "      <td>0.70</td>\n",
       "      <td>0.00</td>\n",
       "      <td>1.9</td>\n",
       "      <td>0.076</td>\n",
       "      <td>11.0</td>\n",
       "      <td>34.0</td>\n",
       "      <td>0.9978</td>\n",
       "      <td>3.51</td>\n",
       "      <td>0.56</td>\n",
       "      <td>9.4</td>\n",
       "      <td>5</td>\n",
       "    </tr>\n",
       "    <tr>\n",
       "      <th>1</th>\n",
       "      <td>7.8</td>\n",
       "      <td>0.88</td>\n",
       "      <td>0.00</td>\n",
       "      <td>2.6</td>\n",
       "      <td>0.098</td>\n",
       "      <td>25.0</td>\n",
       "      <td>67.0</td>\n",
       "      <td>0.9968</td>\n",
       "      <td>3.20</td>\n",
       "      <td>0.68</td>\n",
       "      <td>9.8</td>\n",
       "      <td>5</td>\n",
       "    </tr>\n",
       "    <tr>\n",
       "      <th>2</th>\n",
       "      <td>7.8</td>\n",
       "      <td>0.76</td>\n",
       "      <td>0.04</td>\n",
       "      <td>2.3</td>\n",
       "      <td>0.092</td>\n",
       "      <td>15.0</td>\n",
       "      <td>54.0</td>\n",
       "      <td>0.9970</td>\n",
       "      <td>3.26</td>\n",
       "      <td>0.65</td>\n",
       "      <td>9.8</td>\n",
       "      <td>5</td>\n",
       "    </tr>\n",
       "    <tr>\n",
       "      <th>3</th>\n",
       "      <td>11.2</td>\n",
       "      <td>0.28</td>\n",
       "      <td>0.56</td>\n",
       "      <td>1.9</td>\n",
       "      <td>0.075</td>\n",
       "      <td>17.0</td>\n",
       "      <td>60.0</td>\n",
       "      <td>0.9980</td>\n",
       "      <td>3.16</td>\n",
       "      <td>0.58</td>\n",
       "      <td>9.8</td>\n",
       "      <td>6</td>\n",
       "    </tr>\n",
       "    <tr>\n",
       "      <th>4</th>\n",
       "      <td>7.4</td>\n",
       "      <td>0.70</td>\n",
       "      <td>0.00</td>\n",
       "      <td>1.9</td>\n",
       "      <td>0.076</td>\n",
       "      <td>11.0</td>\n",
       "      <td>34.0</td>\n",
       "      <td>0.9978</td>\n",
       "      <td>3.51</td>\n",
       "      <td>0.56</td>\n",
       "      <td>9.4</td>\n",
       "      <td>5</td>\n",
       "    </tr>\n",
       "  </tbody>\n",
       "</table>\n",
       "</div>"
      ],
      "text/plain": [
       "   acidité fixe  acidité volatile  acide citrique  sucre résiduel  chlorures  \\\n",
       "0           7.4              0.70            0.00             1.9      0.076   \n",
       "1           7.8              0.88            0.00             2.6      0.098   \n",
       "2           7.8              0.76            0.04             2.3      0.092   \n",
       "3          11.2              0.28            0.56             1.9      0.075   \n",
       "4           7.4              0.70            0.00             1.9      0.076   \n",
       "\n",
       "   dioxyde de soufre libre  anhydride sulfureux total  densité    pH  \\\n",
       "0                     11.0                       34.0   0.9978  3.51   \n",
       "1                     25.0                       67.0   0.9968  3.20   \n",
       "2                     15.0                       54.0   0.9970  3.26   \n",
       "3                     17.0                       60.0   0.9980  3.16   \n",
       "4                     11.0                       34.0   0.9978  3.51   \n",
       "\n",
       "   sulphates  alcool  qualité  \n",
       "0       0.56     9.4        5  \n",
       "1       0.68     9.8        5  \n",
       "2       0.65     9.8        5  \n",
       "3       0.58     9.8        6  \n",
       "4       0.56     9.4        5  "
      ]
     },
     "execution_count": 70,
     "metadata": {},
     "output_type": "execute_result"
    }
   ],
   "source": [
    "qvr=pd.read_csv(\"qualite-vin-rouge.csv\")\n",
    "qvr.head()"
   ]
  },
  {
   "cell_type": "code",
   "execution_count": 71,
   "metadata": {},
   "outputs": [
    {
     "data": {
      "text/plain": [
       "qualité                      1.000000\n",
       "alcool                       0.476166\n",
       "acidité volatile             0.390558\n",
       "sulphates                    0.251397\n",
       "acide citrique               0.226373\n",
       "anhydride sulfureux total    0.185100\n",
       "densité                      0.174919\n",
       "chlorures                    0.128907\n",
       "acidité fixe                 0.124052\n",
       "pH                           0.057731\n",
       "dioxyde de soufre libre      0.050656\n",
       "sucre résiduel               0.013732\n",
       "dtype: float64"
      ]
     },
     "execution_count": 71,
     "metadata": {},
     "output_type": "execute_result"
    }
   ],
   "source": [
    "#plt.figure( figsize=(20,20))\n",
    "#sns.heatmap(qvr.corr(),annot=True)\n",
    "qvr.corrwith(qvr['qualité'], method='pearson').abs().sort_values(ascending=False)"
   ]
  },
  {
   "cell_type": "code",
   "execution_count": 76,
   "metadata": {},
   "outputs": [
    {
     "data": {
      "text/plain": [
       "Text(0.5, 1.0, 'Régresion linéaire polynomiale')"
      ]
     },
     "execution_count": 76,
     "metadata": {},
     "output_type": "execute_result"
    },
    {
     "data": {
      "image/png": "[encoded data removed]",
      "text/plain": [
       "<Figure size 432x288 with 1 Axes>"
      ]
     },
     "metadata": {
      "needs_background": "light"
     },
     "output_type": "display_data"
    }
   ],
   "source": [
    "plt.plot(qvr[\"alcool\"],qvr[\"qualité\"], \"*\", color=\"darkred\")\n",
    "plt.xlabel(\"alcool\")\n",
    "plt.ylabel(\"qualité\")\n",
    "plt.title(\"Régresion linéaire polynomiale\")"
   ]
  },
  {
   "cell_type": "code",
   "execution_count": 87,
   "metadata": {},
   "outputs": [
    {
     "data": {
      "text/plain": [
       "0    5\n",
       "1    5\n",
       "2    5\n",
       "3    6\n",
       "4    5\n",
       "Name: qualité, dtype: int64"
      ]
     },
     "execution_count": 87,
     "metadata": {},
     "output_type": "execute_result"
    }
   ],
   "source": [
    "y = qvr['qualité']\n",
    "y.head()"
   ]
  },
  {
   "cell_type": "code",
   "execution_count": 92,
   "metadata": {},
   "outputs": [
    {
     "data": {
      "text/plain": [
       "0    9.4\n",
       "1    9.8\n",
       "2    9.8\n",
       "3    9.8\n",
       "4    9.4\n",
       "Name: alcool, dtype: float64"
      ]
     },
     "execution_count": 92,
     "metadata": {},
     "output_type": "execute_result"
    }
   ],
   "source": [
    "X=qvr['alcool']\n",
    "X.head()"
   ]
  },
  {
   "cell_type": "code",
   "execution_count": 93,
   "metadata": {},
   "outputs": [
    {
     "data": {
      "text/html": [
       "<div>\n",
       "<style scoped>\n",
       "    .dataframe tbody tr th:only-of-type {\n",
       "        vertical-align: middle;\n",
       "    }\n",
       "\n",
       "    .dataframe tbody tr th {\n",
       "        vertical-align: top;\n",
       "    }\n",
       "\n",
       "    .dataframe thead th {\n",
       "        text-align: right;\n",
       "    }\n",
       "</style>\n",
       "<table border=\"1\" class=\"dataframe\">\n",
       "  <thead>\n",
       "    <tr style=\"text-align: right;\">\n",
       "      <th></th>\n",
       "      <th>00</th>\n",
       "      <th>alcool</th>\n",
       "    </tr>\n",
       "  </thead>\n",
       "  <tbody>\n",
       "    <tr>\n",
       "      <th>0</th>\n",
       "      <td>1</td>\n",
       "      <td>9.4</td>\n",
       "    </tr>\n",
       "    <tr>\n",
       "      <th>1</th>\n",
       "      <td>1</td>\n",
       "      <td>9.8</td>\n",
       "    </tr>\n",
       "    <tr>\n",
       "      <th>2</th>\n",
       "      <td>1</td>\n",
       "      <td>9.8</td>\n",
       "    </tr>\n",
       "    <tr>\n",
       "      <th>3</th>\n",
       "      <td>1</td>\n",
       "      <td>9.8</td>\n",
       "    </tr>\n",
       "    <tr>\n",
       "      <th>4</th>\n",
       "      <td>1</td>\n",
       "      <td>9.4</td>\n",
       "    </tr>\n",
       "  </tbody>\n",
       "</table>\n",
       "</div>"
      ],
      "text/plain": [
       "   00  alcool\n",
       "0   1     9.4\n",
       "1   1     9.8\n",
       "2   1     9.8\n",
       "3   1     9.8\n",
       "4   1     9.4"
      ]
     },
     "execution_count": 93,
     "metadata": {},
     "output_type": "execute_result"
    }
   ],
   "source": [
    "X = pd.concat([pd.Series(1, index=X.index, name='00'), X], axis=1)\n",
    "X.head()"
   ]
  },
  {
   "cell_type": "code",
   "execution_count": 94,
   "metadata": {},
   "outputs": [
    {
     "data": {
      "text/html": [
       "<div>\n",
       "<style scoped>\n",
       "    .dataframe tbody tr th:only-of-type {\n",
       "        vertical-align: middle;\n",
       "    }\n",
       "\n",
       "    .dataframe tbody tr th {\n",
       "        vertical-align: top;\n",
       "    }\n",
       "\n",
       "    .dataframe thead th {\n",
       "        text-align: right;\n",
       "    }\n",
       "</style>\n",
       "<table border=\"1\" class=\"dataframe\">\n",
       "  <thead>\n",
       "    <tr style=\"text-align: right;\">\n",
       "      <th></th>\n",
       "      <th>00</th>\n",
       "      <th>alcool</th>\n",
       "      <th>alcool2</th>\n",
       "      <th>alcool3</th>\n",
       "    </tr>\n",
       "  </thead>\n",
       "  <tbody>\n",
       "    <tr>\n",
       "      <th>0</th>\n",
       "      <td>1</td>\n",
       "      <td>9.4</td>\n",
       "      <td>88.36</td>\n",
       "      <td>830.584</td>\n",
       "    </tr>\n",
       "    <tr>\n",
       "      <th>1</th>\n",
       "      <td>1</td>\n",
       "      <td>9.8</td>\n",
       "      <td>96.04</td>\n",
       "      <td>941.192</td>\n",
       "    </tr>\n",
       "    <tr>\n",
       "      <th>2</th>\n",
       "      <td>1</td>\n",
       "      <td>9.8</td>\n",
       "      <td>96.04</td>\n",
       "      <td>941.192</td>\n",
       "    </tr>\n",
       "    <tr>\n",
       "      <th>3</th>\n",
       "      <td>1</td>\n",
       "      <td>9.8</td>\n",
       "      <td>96.04</td>\n",
       "      <td>941.192</td>\n",
       "    </tr>\n",
       "    <tr>\n",
       "      <th>4</th>\n",
       "      <td>1</td>\n",
       "      <td>9.4</td>\n",
       "      <td>88.36</td>\n",
       "      <td>830.584</td>\n",
       "    </tr>\n",
       "  </tbody>\n",
       "</table>\n",
       "</div>"
      ],
      "text/plain": [
       "   00  alcool  alcool2  alcool3\n",
       "0   1     9.4    88.36  830.584\n",
       "1   1     9.8    96.04  941.192\n",
       "2   1     9.8    96.04  941.192\n",
       "3   1     9.8    96.04  941.192\n",
       "4   1     9.4    88.36  830.584"
      ]
     },
     "execution_count": 94,
     "metadata": {},
     "output_type": "execute_result"
    }
   ],
   "source": [
    "X['alcool2']=X['alcool']**2\n",
    "X['alcool3']=X['alcool']**3\n",
    "X.head()"
   ]
  },
  {
   "cell_type": "code",
   "execution_count": 95,
   "metadata": {},
   "outputs": [],
   "source": [
    "X = X/X.max()\n",
    "y=y/y.max()"
   ]
  },
  {
   "cell_type": "code",
   "execution_count": 96,
   "metadata": {},
   "outputs": [
    {
     "data": {
      "text/plain": [
       "array([0, 0, 0, 0])"
      ]
     },
     "execution_count": 96,
     "metadata": {},
     "output_type": "execute_result"
    }
   ],
   "source": [
    "theta = np.array([0]*len(X.columns))\n",
    "theta"
   ]
  },
  {
   "cell_type": "code",
   "execution_count": 99,
   "metadata": {},
   "outputs": [],
   "source": [
    "def hypothesis2(X, theta):\n",
    "    y1 = theta*X\n",
    "    return np.sum(y1, axis=1)\n",
    "\n",
    "def cost2(X, y, theta):\n",
    "    y1 = hypothesis2(X, theta)\n",
    "    return sum(np.sqrt((y1-y)**2))/(2*m) \n",
    "\n",
    "def gradientDescent2(X, y, theta, alpha, epoch):\n",
    "    J=[]\n",
    "    k=0\n",
    "    while k < epoch:\n",
    "        y1 = hypothesis2(X, theta)\n",
    "        for c in range(0, len(X.columns)):\n",
    "            theta[c] = theta[c] - alpha*sum((y1-y)* X.iloc[:, c])/m\n",
    "        j = cost2(X, y, theta)\n",
    "        J.append(j)\n",
    "        k += 1\n",
    "    return J, j, theta\n",
    "\n",
    "theta = np.array([0.0]*len(X.columns))\n",
    "J, j, theta = gradientDescent2(X, y, theta, 0.05, 700)"
   ]
  },
  {
   "cell_type": "code",
   "execution_count": 100,
   "metadata": {},
   "outputs": [
    {
     "data": {
      "text/plain": [
       "array([0.40035204, 0.26297553, 0.16877752, 0.10381996])"
      ]
     },
     "execution_count": 100,
     "metadata": {},
     "output_type": "execute_result"
    }
   ],
   "source": [
    "theta"
   ]
  },
  {
   "cell_type": "code",
   "execution_count": 101,
   "metadata": {},
   "outputs": [],
   "source": [
    "y_hat = theta*X\n",
    "y_hat = np.sum(y_hat, axis=1)"
   ]
  },
  {
   "cell_type": "code",
   "execution_count": 106,
   "metadata": {},
   "outputs": [
    {
     "data": {
      "text/plain": [
       "<matplotlib.legend.Legend at 0x1daea692b20>"
      ]
     },
     "execution_count": 106,
     "metadata": {},
     "output_type": "execute_result"
    },
    {
     "data": {
      "image/png": "[encoded data removed]",
      "text/plain": [
       "<Figure size 432x288 with 1 Axes>"
      ]
     },
     "metadata": {
      "needs_background": "light"
     },
     "output_type": "display_data"
    }
   ],
   "source": [
    "plt.figure()\n",
    "plt.scatter(X['alcool'],y, label=\"base\")          \n",
    "plt.plot(X['alcool'], y_hat, label=\"pred\", c='darkred')\n",
    "plt.xlabel(\"alcool\")\n",
    "plt.ylabel(\"qualité\")\n",
    "plt.legend()"
   ]
  },
  {
   "cell_type": "code",
   "execution_count": 102,
   "metadata": {},
   "outputs": [
    {
     "data": {
      "text/plain": [
       "0.007899604103164752"
      ]
     },
     "execution_count": 102,
     "metadata": {},
     "output_type": "execute_result"
    }
   ],
   "source": [
    "mean_squared_error(y,y_hat)"
   ]
  },
  {
   "cell_type": "code",
   "execution_count": 109,
   "metadata": {},
   "outputs": [
    {
     "data": {
      "text/plain": [
       "0.07064310579277666"
      ]
     },
     "execution_count": 109,
     "metadata": {},
     "output_type": "execute_result"
    }
   ],
   "source": [
    "mean_absolute_error(y,y_hat)"
   ]
  }
 ],
 "metadata": {
  "kernelspec": {
   "display_name": "Python 3",
   "language": "python",
   "name": "python3"
  },
  "language_info": {
   "codemirror_mode": {
    "name": "ipython",
    "version": 3
   },
   "file_extension": ".py",
   "mimetype": "text/x-python",
   "name": "python",
   "nbconvert_exporter": "python",
   "pygments_lexer": "ipython3",
   "version": "3.8.3"
  }
 },
 "nbformat": 4,
 "nbformat_minor": 4
}
